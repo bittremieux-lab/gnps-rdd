{
 "cells": [
  {
   "cell_type": "code",
   "execution_count": 5,
   "metadata": {},
   "outputs": [
    {
     "ename": "ImportError",
     "evalue": "cannot import name 'food_counts_to_wide' from 'utils' (c:\\Users\\amca2\\Documents\\GitHub\\gnps_rdd\\gfop\\utils\\__init__.py)",
     "output_type": "error",
     "traceback": [
      "\u001b[1;31m---------------------------------------------------------------------------\u001b[0m",
      "\u001b[1;31mImportError\u001b[0m                               Traceback (most recent call last)",
      "Cell \u001b[1;32mIn[5], line 8\u001b[0m\n\u001b[0;32m      6\u001b[0m \u001b[38;5;66;03m# Import the FoodCounts class\u001b[39;00m\n\u001b[0;32m      7\u001b[0m \u001b[38;5;28;01mfrom\u001b[39;00m \u001b[38;5;21;01mfoodcounts\u001b[39;00m \u001b[38;5;28;01mimport\u001b[39;00m FoodCounts\n\u001b[1;32m----> 8\u001b[0m \u001b[38;5;28;01mfrom\u001b[39;00m \u001b[38;5;21;01mutils\u001b[39;00m \u001b[38;5;28;01mimport\u001b[39;00m food_counts_to_wide\n",
      "\u001b[1;31mImportError\u001b[0m: cannot import name 'food_counts_to_wide' from 'utils' (c:\\Users\\amca2\\Documents\\GitHub\\gnps_rdd\\gfop\\utils\\__init__.py)"
     ]
    }
   ],
   "source": [
    "import sys\n",
    "import os\n",
    "# Add the path to the 'gfop' directory (one level up from 'notebooks')\n",
    "project_path = os.path.abspath('..')  # Go up one level to 'gfop'\n",
    "sys.path.append(project_path)\n",
    "# Import the FoodCounts class\n",
    "from foodcounts import FoodCounts\n",
    "from utils import food_counts_to_wide"
   ]
  },
  {
   "cell_type": "code",
   "execution_count": null,
   "metadata": {},
   "outputs": [],
   "source": [
    "# Import necessary libraries\n",
    "import pandas as pd\n",
    "# Path to the sample GNPS network file and metadata\n",
    "gnps_network_path = os.path.join('..', 'data', 'sample_gnps_vegomn.tsv')"
   ]
  },
  {
   "cell_type": "code",
   "execution_count": 2,
   "metadata": {},
   "outputs": [
    {
     "ename": "NameError",
     "evalue": "name 'FoodCounts' is not defined",
     "output_type": "error",
     "traceback": [
      "\u001b[1;31m---------------------------------------------------------------------------\u001b[0m",
      "\u001b[1;31mNameError\u001b[0m                                 Traceback (most recent call last)",
      "Cell \u001b[1;32mIn[2], line 2\u001b[0m\n\u001b[0;32m      1\u001b[0m \u001b[38;5;66;03m# Create an instance of the FoodCounts class\u001b[39;00m\n\u001b[1;32m----> 2\u001b[0m fc \u001b[38;5;241m=\u001b[39m FoodCounts(\n\u001b[0;32m      3\u001b[0m     gnps_network\u001b[38;5;241m=\u001b[39mgnps_network_path, \n\u001b[0;32m      4\u001b[0m     sample_types\u001b[38;5;241m=\u001b[39m\u001b[38;5;124m'\u001b[39m\u001b[38;5;124msimple\u001b[39m\u001b[38;5;124m'\u001b[39m, \n\u001b[0;32m      5\u001b[0m     all_groups\u001b[38;5;241m=\u001b[39m[\u001b[38;5;124m'\u001b[39m\u001b[38;5;124mG1\u001b[39m\u001b[38;5;124m'\u001b[39m], \n\u001b[0;32m      6\u001b[0m     some_groups\u001b[38;5;241m=\u001b[39m[\u001b[38;5;124m'\u001b[39m\u001b[38;5;124mG4\u001b[39m\u001b[38;5;124m'\u001b[39m],\n\u001b[0;32m      7\u001b[0m     levels\u001b[38;5;241m=\u001b[39m\u001b[38;5;241m6\u001b[39m\n\u001b[0;32m      8\u001b[0m )\n",
      "\u001b[1;31mNameError\u001b[0m: name 'FoodCounts' is not defined"
     ]
    }
   ],
   "source": [
    "# Create an instance of the FoodCounts class\n",
    "fc = FoodCounts(\n",
    "    gnps_network=gnps_network_path, \n",
    "    sample_types='simple', \n",
    "    all_groups=['G1'], \n",
    "    some_groups=['G4'],\n",
    "    levels=6\n",
    ")"
   ]
  },
  {
   "cell_type": "code",
   "execution_count": 1,
   "metadata": {},
   "outputs": [
    {
     "ename": "NameError",
     "evalue": "name 'fc' is not defined",
     "output_type": "error",
     "traceback": [
      "\u001b[1;31m---------------------------------------------------------------------------\u001b[0m",
      "\u001b[1;31mNameError\u001b[0m                                 Traceback (most recent call last)",
      "Cell \u001b[1;32mIn[1], line 1\u001b[0m\n\u001b[1;32m----> 1\u001b[0m fc\u001b[38;5;241m.\u001b[39mfilter_counts()\n",
      "\u001b[1;31mNameError\u001b[0m: name 'fc' is not defined"
     ]
    }
   ],
   "source": [
    "fc.filter_counts()"
   ]
  }
 ],
 "metadata": {
  "kernelspec": {
   "display_name": "base",
   "language": "python",
   "name": "python3"
  },
  "language_info": {
   "codemirror_mode": {
    "name": "ipython",
    "version": 3
   },
   "file_extension": ".py",
   "mimetype": "text/x-python",
   "name": "python",
   "nbconvert_exporter": "python",
   "pygments_lexer": "ipython3",
   "version": "3.11.7"
  }
 },
 "nbformat": 4,
 "nbformat_minor": 2
}
