{
 "cells": [
  {
   "cell_type": "markdown",
   "metadata": {},
   "source": [
    "##Notebook to test new food counts functionality"
   ]
  },
  {
   "cell_type": "code",
   "execution_count": 2,
   "metadata": {},
   "outputs": [],
   "source": [
    "import sys\n",
    "import os\n",
    "# Add the path to the 'gfop' directory (one level up from 'notebooks')\n",
    "project_path = os.path.abspath('..')  # Go up one level to 'gfop'\n",
    "sys.path.append(project_path)\n",
    "# Import the FoodCounts class\n",
    "from foodcounts import FoodCounts"
   ]
  },
  {
   "cell_type": "code",
   "execution_count": 3,
   "metadata": {},
   "outputs": [],
   "source": [
    "# Import necessary libraries\n",
    "import pandas as pd\n",
    "# Path to the sample GNPS network file and metadata\n",
    "gnps_network_path = os.path.join('..', 'data', 'sample_gnps_vegomn.tsv')"
   ]
  },
  {
   "cell_type": "code",
   "execution_count": 4,
   "metadata": {},
   "outputs": [],
   "source": [
    "# Create an instance of the FoodCounts class\n",
    "food_counts = FoodCounts(\n",
    "    gnps_network=gnps_network_path, \n",
    "    sample_types='simple', \n",
    "    all_groups=['G1'], \n",
    "    some_groups=['G4'],\n",
    "    levels=6\n",
    ")\n"
   ]
  },
  {
   "cell_type": "code",
   "execution_count": null,
   "metadata": {},
   "outputs": [],
   "source": [
    "# Load metadata to verify it is working as expected\n",
    "food_metadata = food_counts.food_metadata\n",
    "print(\"Food Metadata:\")\n",
    "food_metadata.head()  # Display the first few rows of the metadata"
   ]
  },
  {
   "cell_type": "code",
   "execution_count": null,
   "metadata": {},
   "outputs": [],
   "source": [
    "# Load sample metadata to verify it is working as expected\n",
    "sample_metadata = food_counts.sample_metadata\n",
    "print(\"Sample Metadata:\")\n",
    "sample_metadata.head()  # Display the first few rows of the metadata"
   ]
  },
  {
   "cell_type": "code",
   "execution_count": null,
   "metadata": {},
   "outputs": [],
   "source": [
    "counts = food_counts.counts\n",
    "counts.sample(5)"
   ]
  },
  {
   "cell_type": "code",
   "execution_count": null,
   "metadata": {},
   "outputs": [],
   "source": [
    "# Test food counts generation for a specific level (e.g., level 3)\n",
    "level_3_counts = food_counts.filter_counts(level=3)\n",
    "print(\"Level 3 Food Counts (first 5 rows):\")\n",
    "level_3_counts.sample(5)"
   ]
  },
  {
   "cell_type": "code",
   "execution_count": null,
   "metadata": {},
   "outputs": [],
   "source": [
    "# Filter food counts by specific food types for a certain level (e.g., level 3)\n",
    "level_3_counts_legume_honey = food_counts.filter_counts(food_types=['legume', 'honey'], level=3)\n",
    "level_3_counts_legume_honey.sample(10)"
   ]
  },
  {
   "cell_type": "code",
   "execution_count": 7,
   "metadata": {},
   "outputs": [
    {
     "data": {
      "text/plain": [
       "Index(['NIST_POS_Samp_07-03.mzXML', 'NIST_POS_Samp_07-02.mzXML',\n",
       "       'NIST_POS_Samp_11-01.mzXML', 'NIST_POS_Samp_10-03.mzXML',\n",
       "       'NIST_POS_Samp_16-03.mzXML', 'NIST_POS_Samp_17-02.mzXML',\n",
       "       'NIST_POS_Samp_08-02.mzXML', 'NIST_POS_Samp_13-03.mzXML',\n",
       "       'NIST_POS_Samp_09-02.mzXML', 'NIST_POS_Samp_08-03.mzXML',\n",
       "       'NIST_POS_Samp_18-01.mzXML', 'NIST_POS_Samp_14-03.mzXML',\n",
       "       'NIST_POS_Samp_17-01.mzXML', 'NIST_POS_Samp_18-02.mzXML',\n",
       "       'NIST_POS_Samp_08-01.mzXML', 'NIST_POS_Samp_12-03.mzXML',\n",
       "       'NIST_POS_Samp_12-01.mzXML', 'NIST_POS_Samp_14-02.mzXML',\n",
       "       'NIST_POS_Samp_16-02.mzXML', 'NIST_POS_Samp_10-02.mzXML',\n",
       "       'NIST_POS_Samp_11-03.mzXML', 'NIST_POS_Samp_12-02.mzXML',\n",
       "       'NIST_POS_Samp_15-01.mzXML', 'NIST_POS_Samp_16-01.mzXML',\n",
       "       'NIST_POS_Samp_14-01.mzXML', 'NIST_POS_Samp_18-03.mzXML',\n",
       "       'NIST_POS_Samp_11-02.mzXML', 'NIST_POS_Samp_13-01.mzXML',\n",
       "       'NIST_POS_Samp_07-01.mzXML', 'NIST_POS_Samp_17-03.mzXML',\n",
       "       'NIST_POS_Samp_13-02.mzXML', 'NIST_POS_Samp_09-03.mzXML',\n",
       "       'NIST_POS_Samp_15-02.mzXML', 'NIST_POS_Samp_10-01.mzXML',\n",
       "       'NIST_POS_Samp_09-01.mzXML', 'NIST_POS_Samp_15-03.mzXML'],\n",
       "      dtype='object', name='filename')"
      ]
     },
     "execution_count": 7,
     "metadata": {},
     "output_type": "execute_result"
    }
   ],
   "source": [
    "food_counts.get_level_food_counts(0).index"
   ]
  },
  {
   "cell_type": "code",
   "execution_count": 9,
   "metadata": {},
   "outputs": [
    {
     "data": {
      "text/html": [
       "<div>\n",
       "<style scoped>\n",
       "    .dataframe tbody tr th:only-of-type {\n",
       "        vertical-align: middle;\n",
       "    }\n",
       "\n",
       "    .dataframe tbody tr th {\n",
       "        vertical-align: top;\n",
       "    }\n",
       "\n",
       "    .dataframe thead th {\n",
       "        text-align: right;\n",
       "    }\n",
       "</style>\n",
       "<table border=\"1\" class=\"dataframe\">\n",
       "  <thead>\n",
       "    <tr style=\"text-align: right;\">\n",
       "      <th></th>\n",
       "      <th>filename</th>\n",
       "      <th>food_type</th>\n",
       "      <th>count</th>\n",
       "      <th>level</th>\n",
       "      <th>group</th>\n",
       "    </tr>\n",
       "  </thead>\n",
       "  <tbody>\n",
       "  </tbody>\n",
       "</table>\n",
       "</div>"
      ],
      "text/plain": [
       "Empty DataFrame\n",
       "Columns: [filename, food_type, count, level, group]\n",
       "Index: []"
      ]
     },
     "execution_count": 9,
     "metadata": {},
     "output_type": "execute_result"
    }
   ],
   "source": [
    "fc = FoodCounts(\n",
    "            gnps_network=gnps_network_path,\n",
    "            sample_types='all',\n",
    "            all_groups=['InvalidGroup'],\n",
    "            some_groups=['G4'],\n",
    "            levels=6\n",
    "        )\n",
    "fc.counts"
   ]
  }
 ],
 "metadata": {
  "kernelspec": {
   "display_name": "base",
   "language": "python",
   "name": "python3"
  },
  "language_info": {
   "codemirror_mode": {
    "name": "ipython",
    "version": 3
   },
   "file_extension": ".py",
   "mimetype": "text/x-python",
   "name": "python",
   "nbconvert_exporter": "python",
   "pygments_lexer": "ipython3",
   "version": "3.11.7"
  }
 },
 "nbformat": 4,
 "nbformat_minor": 2
}
