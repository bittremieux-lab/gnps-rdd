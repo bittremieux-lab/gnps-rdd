{
 "cells": [
  {
   "cell_type": "markdown",
   "metadata": {},
   "source": [
    "1. Setup and Imports <a name=\"1\"></a>\n",
    "\n",
    "First, set up the environment by importing necessary libraries and adjusting the system path to include the module directory."
   ]
  },
  {
   "cell_type": "code",
   "execution_count": 1,
   "metadata": {},
   "outputs": [
    {
     "name": "stdout",
     "output_type": "stream",
     "text": [
      "Setup complete.\n"
     ]
    }
   ],
   "source": [
    "import os\n",
    "import sys\n",
    "import pandas as pd\n",
    "\n",
    "# Add the path to the 'gfop' directory (adjust the path as needed)\n",
    "module_path = os.path.abspath(os.path.join(\"..\"))\n",
    "if module_path not in sys.path:\n",
    "    sys.path.append(module_path)\n",
    "\n",
    "# Import the FoodCounts class\n",
    "from foodcounts import FoodCounts\n",
    "\n",
    "# Import utility and visualization functions\n",
    "from utils import food_counts_to_wide, calculate_proportions\n",
    "from visualization import (\n",
    "    plot_food_type_distribution,\n",
    "    box_plot_food_proportions,\n",
    "    plot_food_proportion_heatmap,\n",
    "    plot_pca_results,\n",
    "    plot_explained_variance,\n",
    ")\n",
    "from analysis import perform_pca_food_counts\n",
    "\n",
    "print(\"Setup complete.\")"
   ]
  },
  {
   "cell_type": "markdown",
   "metadata": {},
   "source": [
    "2. Loading GNPS Network Data <a name=\"2\"></a>\n",
    "\n",
    "Load a sample GNPS network file for demonstration purposes."
   ]
  },
  {
   "cell_type": "code",
   "execution_count": 2,
   "metadata": {},
   "outputs": [
    {
     "name": "stdout",
     "output_type": "stream",
     "text": [
      "c:\\Users\\amca2\\Documents\\GitHub\\gnps_rdd\\gfop\\data\\sample_gnps_vegomn.tsv\n",
      "Sample GNPS Network Data:\n"
     ]
    },
    {
     "data": {
      "text/html": [
       "<div>\n",
       "<style scoped>\n",
       "    .dataframe tbody tr th:only-of-type {\n",
       "        vertical-align: middle;\n",
       "    }\n",
       "\n",
       "    .dataframe tbody tr th {\n",
       "        vertical-align: top;\n",
       "    }\n",
       "\n",
       "    .dataframe thead th {\n",
       "        text-align: right;\n",
       "    }\n",
       "</style>\n",
       "<table border=\"1\" class=\"dataframe\">\n",
       "  <thead>\n",
       "    <tr style=\"text-align: right;\">\n",
       "      <th></th>\n",
       "      <th>AllGroups</th>\n",
       "      <th>DefaultGroups</th>\n",
       "      <th>EvenOdd</th>\n",
       "      <th>G1</th>\n",
       "      <th>G2</th>\n",
       "      <th>G3</th>\n",
       "      <th>G4</th>\n",
       "      <th>G5</th>\n",
       "      <th>G6</th>\n",
       "      <th>GNPSLinkout_Cluster</th>\n",
       "      <th>...</th>\n",
       "      <th>SpectrumID</th>\n",
       "      <th>UniqueFileSources</th>\n",
       "      <th>UniqueFileSourcesCount</th>\n",
       "      <th>cluster index</th>\n",
       "      <th>componentindex</th>\n",
       "      <th>number of spectra</th>\n",
       "      <th>parent mass</th>\n",
       "      <th>precursor charge</th>\n",
       "      <th>precursor mass</th>\n",
       "      <th>sum(precursor intensity)</th>\n",
       "    </tr>\n",
       "  </thead>\n",
       "  <tbody>\n",
       "    <tr>\n",
       "      <th>0</th>\n",
       "      <td></td>\n",
       "      <td>G1</td>\n",
       "      <td>0</td>\n",
       "      <td>2</td>\n",
       "      <td>0</td>\n",
       "      <td>0</td>\n",
       "      <td>0</td>\n",
       "      <td>0</td>\n",
       "      <td>0</td>\n",
       "      <td>https://gnps.ucsd.edu//ProteoSAFe/result.jsp?t...</td>\n",
       "      <td>...</td>\n",
       "      <td>NaN</td>\n",
       "      <td>NIST_POS_Samp_07-03.mzXML|NIST_POS_Samp_07-02....</td>\n",
       "      <td>2</td>\n",
       "      <td>2</td>\n",
       "      <td>-1</td>\n",
       "      <td>2</td>\n",
       "      <td>301.198</td>\n",
       "      <td>3</td>\n",
       "      <td>101.066</td>\n",
       "      <td>873428.0</td>\n",
       "    </tr>\n",
       "    <tr>\n",
       "      <th>1</th>\n",
       "      <td></td>\n",
       "      <td>G1,G4</td>\n",
       "      <td>0</td>\n",
       "      <td>56</td>\n",
       "      <td>0</td>\n",
       "      <td>0</td>\n",
       "      <td>26</td>\n",
       "      <td>0</td>\n",
       "      <td>0</td>\n",
       "      <td>https://gnps.ucsd.edu//ProteoSAFe/result.jsp?t...</td>\n",
       "      <td>...</td>\n",
       "      <td>NaN</td>\n",
       "      <td>NIST_POS_Samp_11-01.mzXML|NIST_POS_Samp_10-03....</td>\n",
       "      <td>36</td>\n",
       "      <td>3</td>\n",
       "      <td>-1</td>\n",
       "      <td>82</td>\n",
       "      <td>203.061</td>\n",
       "      <td>2</td>\n",
       "      <td>102.030</td>\n",
       "      <td>285315000.0</td>\n",
       "    </tr>\n",
       "    <tr>\n",
       "      <th>2</th>\n",
       "      <td></td>\n",
       "      <td>G1,G4</td>\n",
       "      <td>0</td>\n",
       "      <td>54</td>\n",
       "      <td>0</td>\n",
       "      <td>0</td>\n",
       "      <td>13</td>\n",
       "      <td>0</td>\n",
       "      <td>0</td>\n",
       "      <td>https://gnps.ucsd.edu//ProteoSAFe/result.jsp?t...</td>\n",
       "      <td>...</td>\n",
       "      <td>NaN</td>\n",
       "      <td>NIST_POS_Samp_11-01.mzXML|NIST_POS_Samp_10-03....</td>\n",
       "      <td>27</td>\n",
       "      <td>8</td>\n",
       "      <td>467</td>\n",
       "      <td>67</td>\n",
       "      <td>219.033</td>\n",
       "      <td>2</td>\n",
       "      <td>110.016</td>\n",
       "      <td>97144900.0</td>\n",
       "    </tr>\n",
       "    <tr>\n",
       "      <th>3</th>\n",
       "      <td></td>\n",
       "      <td>G4</td>\n",
       "      <td>0</td>\n",
       "      <td>0</td>\n",
       "      <td>0</td>\n",
       "      <td>0</td>\n",
       "      <td>11</td>\n",
       "      <td>0</td>\n",
       "      <td>0</td>\n",
       "      <td>https://gnps.ucsd.edu//ProteoSAFe/result.jsp?t...</td>\n",
       "      <td>...</td>\n",
       "      <td>NaN</td>\n",
       "      <td>G000073461_170522182039.mzXML|G000073462_17052...</td>\n",
       "      <td>3</td>\n",
       "      <td>9</td>\n",
       "      <td>467</td>\n",
       "      <td>11</td>\n",
       "      <td>221.071</td>\n",
       "      <td>2</td>\n",
       "      <td>111.035</td>\n",
       "      <td>45839100.0</td>\n",
       "    </tr>\n",
       "    <tr>\n",
       "      <th>4</th>\n",
       "      <td></td>\n",
       "      <td>G1,G4</td>\n",
       "      <td>0</td>\n",
       "      <td>1</td>\n",
       "      <td>0</td>\n",
       "      <td>0</td>\n",
       "      <td>25</td>\n",
       "      <td>0</td>\n",
       "      <td>0</td>\n",
       "      <td>https://gnps.ucsd.edu//ProteoSAFe/result.jsp?t...</td>\n",
       "      <td>...</td>\n",
       "      <td>NaN</td>\n",
       "      <td>G86787_1x_RG10_01_23372.mzXML|RB5_RB5_01_49070...</td>\n",
       "      <td>26</td>\n",
       "      <td>10</td>\n",
       "      <td>-1</td>\n",
       "      <td>26</td>\n",
       "      <td>904.661</td>\n",
       "      <td>8</td>\n",
       "      <td>113.958</td>\n",
       "      <td>1133780.0</td>\n",
       "    </tr>\n",
       "  </tbody>\n",
       "</table>\n",
       "<p>5 rows × 29 columns</p>\n",
       "</div>"
      ],
      "text/plain": [
       "  AllGroups DefaultGroups  EvenOdd  G1  G2  G3  G4  G5  G6  \\\n",
       "0                      G1        0   2   0   0   0   0   0   \n",
       "1                   G1,G4        0  56   0   0  26   0   0   \n",
       "2                   G1,G4        0  54   0   0  13   0   0   \n",
       "3                      G4        0   0   0   0  11   0   0   \n",
       "4                   G1,G4        0   1   0   0  25   0   0   \n",
       "\n",
       "                                 GNPSLinkout_Cluster  ... SpectrumID  \\\n",
       "0  https://gnps.ucsd.edu//ProteoSAFe/result.jsp?t...  ...        NaN   \n",
       "1  https://gnps.ucsd.edu//ProteoSAFe/result.jsp?t...  ...        NaN   \n",
       "2  https://gnps.ucsd.edu//ProteoSAFe/result.jsp?t...  ...        NaN   \n",
       "3  https://gnps.ucsd.edu//ProteoSAFe/result.jsp?t...  ...        NaN   \n",
       "4  https://gnps.ucsd.edu//ProteoSAFe/result.jsp?t...  ...        NaN   \n",
       "\n",
       "                                   UniqueFileSources  UniqueFileSourcesCount  \\\n",
       "0  NIST_POS_Samp_07-03.mzXML|NIST_POS_Samp_07-02....                       2   \n",
       "1  NIST_POS_Samp_11-01.mzXML|NIST_POS_Samp_10-03....                      36   \n",
       "2  NIST_POS_Samp_11-01.mzXML|NIST_POS_Samp_10-03....                      27   \n",
       "3  G000073461_170522182039.mzXML|G000073462_17052...                       3   \n",
       "4  G86787_1x_RG10_01_23372.mzXML|RB5_RB5_01_49070...                      26   \n",
       "\n",
       "   cluster index  componentindex  number of spectra  parent mass  \\\n",
       "0              2              -1                  2      301.198   \n",
       "1              3              -1                 82      203.061   \n",
       "2              8             467                 67      219.033   \n",
       "3              9             467                 11      221.071   \n",
       "4             10              -1                 26      904.661   \n",
       "\n",
       "   precursor charge precursor mass sum(precursor intensity)  \n",
       "0                 3        101.066                 873428.0  \n",
       "1                 2        102.030              285315000.0  \n",
       "2                 2        110.016               97144900.0  \n",
       "3                 2        111.035               45839100.0  \n",
       "4                 8        113.958                1133780.0  \n",
       "\n",
       "[5 rows x 29 columns]"
      ]
     },
     "execution_count": 2,
     "metadata": {},
     "output_type": "execute_result"
    }
   ],
   "source": [
    "# Define the path to the sample GNPS network file\n",
    "gnps_network_path = os.path.join(module_path, \"data\", \"sample_gnps_vegomn.tsv\")\n",
    "print(gnps_network_path)\n",
    "# Check if the file exists\n",
    "if not os.path.exists(gnps_network_path):\n",
    "    raise FileNotFoundError(f\"GNPS network file not found at {gnps_network_path}\")\n",
    "\n",
    "# Read the GNPS network data\n",
    "gnps_network_df = pd.read_csv(gnps_network_path, sep=\"\\t\")\n",
    "\n",
    "# Display the first few rows\n",
    "print(\"Sample GNPS Network Data:\")\n",
    "gnps_network_df.head()"
   ]
  },
  {
   "cell_type": "markdown",
   "metadata": {},
   "source": [
    "3. Initializing the FoodCounts Class <a name=\"3\"></a>\n",
    "\n",
    "Initialize the FoodCounts class by providing the GNPS network file path, sample types, group names, and the number of ontology levels.\n"
   ]
  },
  {
   "cell_type": "code",
   "execution_count": 3,
   "metadata": {},
   "outputs": [
    {
     "name": "stdout",
     "output_type": "stream",
     "text": [
      "FoodCounts object initialized successfully.\n"
     ]
    }
   ],
   "source": [
    "# Define the groups\n",
    "all_groups = [\"G1\"]  # Study spectrum file groups\n",
    "some_groups = [\"G4\"]  # Reference spectrum file groups\n",
    "\n",
    "# Initialize the FoodCounts class\n",
    "try:\n",
    "    food_counts = FoodCounts(\n",
    "        gnps_network=gnps_network_path,\n",
    "        sample_types=\"simple\",  # Options: 'simple', 'complex', 'all'\n",
    "        sample_groups=all_groups,\n",
    "        reference_groups=some_groups,\n",
    "    )\n",
    "    print(\"FoodCounts object initialized successfully.\")\n",
    "except ValueError as e:\n",
    "    print(f\"Error initializing FoodCounts: {e}\")"
   ]
  },
  {
   "cell_type": "markdown",
   "metadata": {},
   "source": [
    "4. Generating Food Counts and visualize attributes\n",
    "\n",
    "After initialization, the FoodCounts object automatically generates food counts for all levels."
   ]
  },
  {
   "cell_type": "code",
   "execution_count": 4,
   "metadata": {},
   "outputs": [
    {
     "name": "stdout",
     "output_type": "stream",
     "text": [
      "Generated Food Counts (first 5 rows):\n"
     ]
    },
    {
     "data": {
      "text/html": [
       "<div>\n",
       "<style scoped>\n",
       "    .dataframe tbody tr th:only-of-type {\n",
       "        vertical-align: middle;\n",
       "    }\n",
       "\n",
       "    .dataframe tbody tr th {\n",
       "        vertical-align: top;\n",
       "    }\n",
       "\n",
       "    .dataframe thead th {\n",
       "        text-align: right;\n",
       "    }\n",
       "</style>\n",
       "<table border=\"1\" class=\"dataframe\">\n",
       "  <thead>\n",
       "    <tr style=\"text-align: right;\">\n",
       "      <th></th>\n",
       "      <th>filename</th>\n",
       "      <th>food_type</th>\n",
       "      <th>count</th>\n",
       "      <th>level</th>\n",
       "      <th>group</th>\n",
       "    </tr>\n",
       "  </thead>\n",
       "  <tbody>\n",
       "    <tr>\n",
       "      <th>0</th>\n",
       "      <td>NIST_POS_Samp_07-01.mzXML</td>\n",
       "      <td>11442.G72441</td>\n",
       "      <td>9</td>\n",
       "      <td>0</td>\n",
       "      <td>G1</td>\n",
       "    </tr>\n",
       "    <tr>\n",
       "      <th>1</th>\n",
       "      <td>NIST_POS_Samp_07-02.mzXML</td>\n",
       "      <td>11442.G72441</td>\n",
       "      <td>9</td>\n",
       "      <td>0</td>\n",
       "      <td>G1</td>\n",
       "    </tr>\n",
       "    <tr>\n",
       "      <th>2</th>\n",
       "      <td>NIST_POS_Samp_07-03.mzXML</td>\n",
       "      <td>11442.G72441</td>\n",
       "      <td>11</td>\n",
       "      <td>0</td>\n",
       "      <td>G1</td>\n",
       "    </tr>\n",
       "    <tr>\n",
       "      <th>3</th>\n",
       "      <td>NIST_POS_Samp_08-01.mzXML</td>\n",
       "      <td>11442.G72441</td>\n",
       "      <td>12</td>\n",
       "      <td>0</td>\n",
       "      <td>G1</td>\n",
       "    </tr>\n",
       "    <tr>\n",
       "      <th>4</th>\n",
       "      <td>NIST_POS_Samp_08-02.mzXML</td>\n",
       "      <td>11442.G72441</td>\n",
       "      <td>10</td>\n",
       "      <td>0</td>\n",
       "      <td>G1</td>\n",
       "    </tr>\n",
       "    <tr>\n",
       "      <th>...</th>\n",
       "      <td>...</td>\n",
       "      <td>...</td>\n",
       "      <td>...</td>\n",
       "      <td>...</td>\n",
       "      <td>...</td>\n",
       "    </tr>\n",
       "    <tr>\n",
       "      <th>92155</th>\n",
       "      <td>NIST_POS_Samp_17-02.mzXML</td>\n",
       "      <td>zuchini blossom</td>\n",
       "      <td>0</td>\n",
       "      <td>6</td>\n",
       "      <td>G1</td>\n",
       "    </tr>\n",
       "    <tr>\n",
       "      <th>92156</th>\n",
       "      <td>NIST_POS_Samp_17-03.mzXML</td>\n",
       "      <td>zuchini blossom</td>\n",
       "      <td>0</td>\n",
       "      <td>6</td>\n",
       "      <td>G1</td>\n",
       "    </tr>\n",
       "    <tr>\n",
       "      <th>92157</th>\n",
       "      <td>NIST_POS_Samp_18-01.mzXML</td>\n",
       "      <td>zuchini blossom</td>\n",
       "      <td>0</td>\n",
       "      <td>6</td>\n",
       "      <td>G1</td>\n",
       "    </tr>\n",
       "    <tr>\n",
       "      <th>92158</th>\n",
       "      <td>NIST_POS_Samp_18-02.mzXML</td>\n",
       "      <td>zuchini blossom</td>\n",
       "      <td>0</td>\n",
       "      <td>6</td>\n",
       "      <td>G1</td>\n",
       "    </tr>\n",
       "    <tr>\n",
       "      <th>92159</th>\n",
       "      <td>NIST_POS_Samp_18-03.mzXML</td>\n",
       "      <td>zuchini blossom</td>\n",
       "      <td>0</td>\n",
       "      <td>6</td>\n",
       "      <td>G1</td>\n",
       "    </tr>\n",
       "  </tbody>\n",
       "</table>\n",
       "<p>92160 rows × 5 columns</p>\n",
       "</div>"
      ],
      "text/plain": [
       "                        filename        food_type  count  level group\n",
       "0      NIST_POS_Samp_07-01.mzXML     11442.G72441      9      0    G1\n",
       "1      NIST_POS_Samp_07-02.mzXML     11442.G72441      9      0    G1\n",
       "2      NIST_POS_Samp_07-03.mzXML     11442.G72441     11      0    G1\n",
       "3      NIST_POS_Samp_08-01.mzXML     11442.G72441     12      0    G1\n",
       "4      NIST_POS_Samp_08-02.mzXML     11442.G72441     10      0    G1\n",
       "...                          ...              ...    ...    ...   ...\n",
       "92155  NIST_POS_Samp_17-02.mzXML  zuchini blossom      0      6    G1\n",
       "92156  NIST_POS_Samp_17-03.mzXML  zuchini blossom      0      6    G1\n",
       "92157  NIST_POS_Samp_18-01.mzXML  zuchini blossom      0      6    G1\n",
       "92158  NIST_POS_Samp_18-02.mzXML  zuchini blossom      0      6    G1\n",
       "92159  NIST_POS_Samp_18-03.mzXML  zuchini blossom      0      6    G1\n",
       "\n",
       "[92160 rows x 5 columns]"
      ]
     },
     "execution_count": 4,
     "metadata": {},
     "output_type": "execute_result"
    }
   ],
   "source": [
    "# Access the generated food counts\n",
    "counts = food_counts.counts\n",
    "# Display the first few rows of the counts\n",
    "print(\"Generated Food Counts (first 5 rows):\")\n",
    "food_counts.counts"
   ]
  },
  {
   "cell_type": "code",
   "execution_count": 5,
   "metadata": {},
   "outputs": [
    {
     "data": {
      "text/html": [
       "<div>\n",
       "<style scoped>\n",
       "    .dataframe tbody tr th:only-of-type {\n",
       "        vertical-align: middle;\n",
       "    }\n",
       "\n",
       "    .dataframe tbody tr th {\n",
       "        vertical-align: top;\n",
       "    }\n",
       "\n",
       "    .dataframe thead th {\n",
       "        text-align: right;\n",
       "    }\n",
       "</style>\n",
       "<table border=\"1\" class=\"dataframe\">\n",
       "  <thead>\n",
       "    <tr style=\"text-align: right;\">\n",
       "      <th></th>\n",
       "      <th>sample_name</th>\n",
       "      <th>sample_type_group1</th>\n",
       "      <th>sample_type_group2</th>\n",
       "      <th>sample_type_group3</th>\n",
       "      <th>sample_type_group4</th>\n",
       "      <th>sample_type_group5</th>\n",
       "      <th>sample_type_group6</th>\n",
       "    </tr>\n",
       "    <tr>\n",
       "      <th>filename</th>\n",
       "      <th></th>\n",
       "      <th></th>\n",
       "      <th></th>\n",
       "      <th></th>\n",
       "      <th></th>\n",
       "      <th></th>\n",
       "      <th></th>\n",
       "    </tr>\n",
       "  </thead>\n",
       "  <tbody>\n",
       "    <tr>\n",
       "      <th>72475_1x_BC9_01_17418.mzXML</th>\n",
       "      <td>11442.G72475</td>\n",
       "      <td>plant</td>\n",
       "      <td>vegetable/herb</td>\n",
       "      <td>vegetable/herb</td>\n",
       "      <td>vegetable</td>\n",
       "      <td>garlic</td>\n",
       "      <td>garlic</td>\n",
       "    </tr>\n",
       "    <tr>\n",
       "      <th>72497_1x_BD7_01_17434.mzXML</th>\n",
       "      <td>11442.G72497</td>\n",
       "      <td>plant</td>\n",
       "      <td>fruit</td>\n",
       "      <td>fleshy fruit</td>\n",
       "      <td>pepo</td>\n",
       "      <td>melon</td>\n",
       "      <td>galia</td>\n",
       "    </tr>\n",
       "    <tr>\n",
       "      <th>72500_1x_BG3_01_17471.mzXML</th>\n",
       "      <td>11442.G72500</td>\n",
       "      <td>plant</td>\n",
       "      <td>fruit</td>\n",
       "      <td>fleshy fruit</td>\n",
       "      <td>pome</td>\n",
       "      <td>apple</td>\n",
       "      <td>apple</td>\n",
       "    </tr>\n",
       "    <tr>\n",
       "      <th>72504_1x_BH8_01_17502.mzXML</th>\n",
       "      <td>11442.G72504</td>\n",
       "      <td>plant</td>\n",
       "      <td>fruit</td>\n",
       "      <td>fleshy fruit</td>\n",
       "      <td>multifruit</td>\n",
       "      <td>fig</td>\n",
       "      <td>turkish fig</td>\n",
       "    </tr>\n",
       "    <tr>\n",
       "      <th>72507_1x_BH9_01_17503.mzXML</th>\n",
       "      <td>11442.G72507</td>\n",
       "      <td>algae</td>\n",
       "      <td>algae</td>\n",
       "      <td>seaweed</td>\n",
       "      <td>seaweed</td>\n",
       "      <td>dulse</td>\n",
       "      <td>dulse</td>\n",
       "    </tr>\n",
       "  </tbody>\n",
       "</table>\n",
       "</div>"
      ],
      "text/plain": [
       "                              sample_name sample_type_group1  \\\n",
       "filename                                                       \n",
       "72475_1x_BC9_01_17418.mzXML  11442.G72475              plant   \n",
       "72497_1x_BD7_01_17434.mzXML  11442.G72497              plant   \n",
       "72500_1x_BG3_01_17471.mzXML  11442.G72500              plant   \n",
       "72504_1x_BH8_01_17502.mzXML  11442.G72504              plant   \n",
       "72507_1x_BH9_01_17503.mzXML  11442.G72507              algae   \n",
       "\n",
       "                            sample_type_group2 sample_type_group3  \\\n",
       "filename                                                            \n",
       "72475_1x_BC9_01_17418.mzXML     vegetable/herb     vegetable/herb   \n",
       "72497_1x_BD7_01_17434.mzXML              fruit       fleshy fruit   \n",
       "72500_1x_BG3_01_17471.mzXML              fruit       fleshy fruit   \n",
       "72504_1x_BH8_01_17502.mzXML              fruit       fleshy fruit   \n",
       "72507_1x_BH9_01_17503.mzXML              algae            seaweed   \n",
       "\n",
       "                            sample_type_group4 sample_type_group5  \\\n",
       "filename                                                            \n",
       "72475_1x_BC9_01_17418.mzXML          vegetable             garlic   \n",
       "72497_1x_BD7_01_17434.mzXML               pepo              melon   \n",
       "72500_1x_BG3_01_17471.mzXML               pome              apple   \n",
       "72504_1x_BH8_01_17502.mzXML         multifruit                fig   \n",
       "72507_1x_BH9_01_17503.mzXML            seaweed              dulse   \n",
       "\n",
       "                            sample_type_group6  \n",
       "filename                                        \n",
       "72475_1x_BC9_01_17418.mzXML             garlic  \n",
       "72497_1x_BD7_01_17434.mzXML              galia  \n",
       "72500_1x_BG3_01_17471.mzXML              apple  \n",
       "72504_1x_BH8_01_17502.mzXML        turkish fig  \n",
       "72507_1x_BH9_01_17503.mzXML              dulse  "
      ]
     },
     "execution_count": 5,
     "metadata": {},
     "output_type": "execute_result"
    }
   ],
   "source": [
    "food_counts.sample_types.head()"
   ]
  },
  {
   "cell_type": "code",
   "execution_count": 6,
   "metadata": {},
   "outputs": [
    {
     "data": {
      "text/html": [
       "<div>\n",
       "<style scoped>\n",
       "    .dataframe tbody tr th:only-of-type {\n",
       "        vertical-align: middle;\n",
       "    }\n",
       "\n",
       "    .dataframe tbody tr th {\n",
       "        vertical-align: top;\n",
       "    }\n",
       "\n",
       "    .dataframe thead th {\n",
       "        text-align: right;\n",
       "    }\n",
       "</style>\n",
       "<table border=\"1\" class=\"dataframe\">\n",
       "  <thead>\n",
       "    <tr style=\"text-align: right;\">\n",
       "      <th></th>\n",
       "      <th>group</th>\n",
       "      <th>filename</th>\n",
       "    </tr>\n",
       "  </thead>\n",
       "  <tbody>\n",
       "    <tr>\n",
       "      <th>10</th>\n",
       "      <td>G1</td>\n",
       "      <td>NIST_POS_Samp_18-01.mzXML</td>\n",
       "    </tr>\n",
       "    <tr>\n",
       "      <th>4</th>\n",
       "      <td>G1</td>\n",
       "      <td>NIST_POS_Samp_16-03.mzXML</td>\n",
       "    </tr>\n",
       "    <tr>\n",
       "      <th>0</th>\n",
       "      <td>G1</td>\n",
       "      <td>NIST_POS_Samp_07-03.mzXML</td>\n",
       "    </tr>\n",
       "    <tr>\n",
       "      <th>28</th>\n",
       "      <td>G1</td>\n",
       "      <td>NIST_POS_Samp_07-01.mzXML</td>\n",
       "    </tr>\n",
       "    <tr>\n",
       "      <th>2</th>\n",
       "      <td>G1</td>\n",
       "      <td>NIST_POS_Samp_11-01.mzXML</td>\n",
       "    </tr>\n",
       "    <tr>\n",
       "      <th>6</th>\n",
       "      <td>G1</td>\n",
       "      <td>NIST_POS_Samp_08-02.mzXML</td>\n",
       "    </tr>\n",
       "    <tr>\n",
       "      <th>21</th>\n",
       "      <td>G1</td>\n",
       "      <td>NIST_POS_Samp_12-02.mzXML</td>\n",
       "    </tr>\n",
       "    <tr>\n",
       "      <th>33</th>\n",
       "      <td>G1</td>\n",
       "      <td>NIST_POS_Samp_10-01.mzXML</td>\n",
       "    </tr>\n",
       "    <tr>\n",
       "      <th>19</th>\n",
       "      <td>G1</td>\n",
       "      <td>NIST_POS_Samp_10-02.mzXML</td>\n",
       "    </tr>\n",
       "    <tr>\n",
       "      <th>31</th>\n",
       "      <td>G1</td>\n",
       "      <td>NIST_POS_Samp_09-03.mzXML</td>\n",
       "    </tr>\n",
       "  </tbody>\n",
       "</table>\n",
       "</div>"
      ],
      "text/plain": [
       "   group                   filename\n",
       "10    G1  NIST_POS_Samp_18-01.mzXML\n",
       "4     G1  NIST_POS_Samp_16-03.mzXML\n",
       "0     G1  NIST_POS_Samp_07-03.mzXML\n",
       "28    G1  NIST_POS_Samp_07-01.mzXML\n",
       "2     G1  NIST_POS_Samp_11-01.mzXML\n",
       "6     G1  NIST_POS_Samp_08-02.mzXML\n",
       "21    G1  NIST_POS_Samp_12-02.mzXML\n",
       "33    G1  NIST_POS_Samp_10-01.mzXML\n",
       "19    G1  NIST_POS_Samp_10-02.mzXML\n",
       "31    G1  NIST_POS_Samp_09-03.mzXML"
      ]
     },
     "execution_count": 6,
     "metadata": {},
     "output_type": "execute_result"
    }
   ],
   "source": [
    "food_counts.sample_metadata.sample(10)"
   ]
  },
  {
   "cell_type": "markdown",
   "metadata": {},
   "source": [
    "5. Filtering Food Counts\n",
    "Markdown Cell:\n",
    "\n",
    "Filter the food counts by specific food types and ontology levels. Also test proportion calculation"
   ]
  },
  {
   "cell_type": "code",
   "execution_count": 7,
   "metadata": {},
   "outputs": [
    {
     "name": "stdout",
     "output_type": "stream",
     "text": [
      "Filtered Food Counts at Level 3 (first 5 rows):\n"
     ]
    },
    {
     "data": {
      "text/html": [
       "<div>\n",
       "<style scoped>\n",
       "    .dataframe tbody tr th:only-of-type {\n",
       "        vertical-align: middle;\n",
       "    }\n",
       "\n",
       "    .dataframe tbody tr th {\n",
       "        vertical-align: top;\n",
       "    }\n",
       "\n",
       "    .dataframe thead th {\n",
       "        text-align: right;\n",
       "    }\n",
       "</style>\n",
       "<table border=\"1\" class=\"dataframe\">\n",
       "  <thead>\n",
       "    <tr style=\"text-align: right;\">\n",
       "      <th></th>\n",
       "      <th>filename</th>\n",
       "      <th>food_type</th>\n",
       "      <th>count</th>\n",
       "      <th>level</th>\n",
       "      <th>group</th>\n",
       "    </tr>\n",
       "  </thead>\n",
       "  <tbody>\n",
       "    <tr>\n",
       "      <th>67284</th>\n",
       "      <td>NIST_POS_Samp_07-01.mzXML</td>\n",
       "      <td>dairy</td>\n",
       "      <td>1457</td>\n",
       "      <td>3</td>\n",
       "      <td>G1</td>\n",
       "    </tr>\n",
       "    <tr>\n",
       "      <th>67285</th>\n",
       "      <td>NIST_POS_Samp_07-02.mzXML</td>\n",
       "      <td>dairy</td>\n",
       "      <td>1207</td>\n",
       "      <td>3</td>\n",
       "      <td>G1</td>\n",
       "    </tr>\n",
       "    <tr>\n",
       "      <th>67286</th>\n",
       "      <td>NIST_POS_Samp_07-03.mzXML</td>\n",
       "      <td>dairy</td>\n",
       "      <td>1247</td>\n",
       "      <td>3</td>\n",
       "      <td>G1</td>\n",
       "    </tr>\n",
       "    <tr>\n",
       "      <th>67287</th>\n",
       "      <td>NIST_POS_Samp_08-01.mzXML</td>\n",
       "      <td>dairy</td>\n",
       "      <td>1351</td>\n",
       "      <td>3</td>\n",
       "      <td>G1</td>\n",
       "    </tr>\n",
       "    <tr>\n",
       "      <th>67288</th>\n",
       "      <td>NIST_POS_Samp_08-02.mzXML</td>\n",
       "      <td>dairy</td>\n",
       "      <td>1256</td>\n",
       "      <td>3</td>\n",
       "      <td>G1</td>\n",
       "    </tr>\n",
       "  </tbody>\n",
       "</table>\n",
       "</div>"
      ],
      "text/plain": [
       "                        filename food_type  count  level group\n",
       "67284  NIST_POS_Samp_07-01.mzXML     dairy   1457      3    G1\n",
       "67285  NIST_POS_Samp_07-02.mzXML     dairy   1207      3    G1\n",
       "67286  NIST_POS_Samp_07-03.mzXML     dairy   1247      3    G1\n",
       "67287  NIST_POS_Samp_08-01.mzXML     dairy   1351      3    G1\n",
       "67288  NIST_POS_Samp_08-02.mzXML     dairy   1256      3    G1"
      ]
     },
     "execution_count": 7,
     "metadata": {},
     "output_type": "execute_result"
    }
   ],
   "source": [
    "# Filter counts for level 3\n",
    "level_3_counts = food_counts.filter_counts(level=3)\n",
    "\n",
    "print(\"Filtered Food Counts at Level 3 (first 5 rows):\")\n",
    "level_3_counts.head()"
   ]
  },
  {
   "cell_type": "code",
   "execution_count": 8,
   "metadata": {},
   "outputs": [
    {
     "name": "stdout",
     "output_type": "stream",
     "text": [
      "Filtered Food Counts for ['legume', 'honey'] at Level 3 (sample 5 rows):\n"
     ]
    },
    {
     "data": {
      "text/html": [
       "<div>\n",
       "<style scoped>\n",
       "    .dataframe tbody tr th:only-of-type {\n",
       "        vertical-align: middle;\n",
       "    }\n",
       "\n",
       "    .dataframe tbody tr th {\n",
       "        vertical-align: top;\n",
       "    }\n",
       "\n",
       "    .dataframe thead th {\n",
       "        text-align: right;\n",
       "    }\n",
       "</style>\n",
       "<table border=\"1\" class=\"dataframe\">\n",
       "  <thead>\n",
       "    <tr style=\"text-align: right;\">\n",
       "      <th></th>\n",
       "      <th>filename</th>\n",
       "      <th>food_type</th>\n",
       "      <th>count</th>\n",
       "      <th>level</th>\n",
       "      <th>group</th>\n",
       "    </tr>\n",
       "  </thead>\n",
       "  <tbody>\n",
       "    <tr>\n",
       "      <th>67477</th>\n",
       "      <td>NIST_POS_Samp_11-02.mzXML</td>\n",
       "      <td>honey</td>\n",
       "      <td>0</td>\n",
       "      <td>3</td>\n",
       "      <td>G1</td>\n",
       "    </tr>\n",
       "    <tr>\n",
       "      <th>67581</th>\n",
       "      <td>NIST_POS_Samp_10-01.mzXML</td>\n",
       "      <td>legume</td>\n",
       "      <td>466</td>\n",
       "      <td>3</td>\n",
       "      <td>G1</td>\n",
       "    </tr>\n",
       "    <tr>\n",
       "      <th>67467</th>\n",
       "      <td>NIST_POS_Samp_08-01.mzXML</td>\n",
       "      <td>honey</td>\n",
       "      <td>0</td>\n",
       "      <td>3</td>\n",
       "      <td>G1</td>\n",
       "    </tr>\n",
       "    <tr>\n",
       "      <th>67496</th>\n",
       "      <td>NIST_POS_Samp_17-03.mzXML</td>\n",
       "      <td>honey</td>\n",
       "      <td>65</td>\n",
       "      <td>3</td>\n",
       "      <td>G1</td>\n",
       "    </tr>\n",
       "    <tr>\n",
       "      <th>67575</th>\n",
       "      <td>NIST_POS_Samp_08-01.mzXML</td>\n",
       "      <td>legume</td>\n",
       "      <td>477</td>\n",
       "      <td>3</td>\n",
       "      <td>G1</td>\n",
       "    </tr>\n",
       "  </tbody>\n",
       "</table>\n",
       "</div>"
      ],
      "text/plain": [
       "                        filename food_type  count  level group\n",
       "67477  NIST_POS_Samp_11-02.mzXML     honey      0      3    G1\n",
       "67581  NIST_POS_Samp_10-01.mzXML    legume    466      3    G1\n",
       "67467  NIST_POS_Samp_08-01.mzXML     honey      0      3    G1\n",
       "67496  NIST_POS_Samp_17-03.mzXML     honey     65      3    G1\n",
       "67575  NIST_POS_Samp_08-01.mzXML    legume    477      3    G1"
      ]
     },
     "execution_count": 8,
     "metadata": {},
     "output_type": "execute_result"
    }
   ],
   "source": [
    "# Filter counts for specific food types at level 3\n",
    "food_types = [\"legume\", \"honey\"]\n",
    "filtered_counts = food_counts.filter_counts(food_types=food_types, level=3)\n",
    "\n",
    "print(f\"Filtered Food Counts for {food_types} at Level 3 (sample 5 rows):\")\n",
    "filtered_counts.sample(5)"
   ]
  },
  {
   "cell_type": "markdown",
   "metadata": {},
   "source": [
    "6. Converting Counts to Wide Format and calculating proportions <a name=\"6\"></a>\n",
    "\n",
    "Convert the long-format counts to a wide-format DataFrame using the utility function."
   ]
  },
  {
   "cell_type": "code",
   "execution_count": 9,
   "metadata": {},
   "outputs": [
    {
     "name": "stdout",
     "output_type": "stream",
     "text": [
      "Wide-format Food Counts (first 5 rows):\n"
     ]
    },
    {
     "data": {
      "text/html": [
       "<div>\n",
       "<style scoped>\n",
       "    .dataframe tbody tr th:only-of-type {\n",
       "        vertical-align: middle;\n",
       "    }\n",
       "\n",
       "    .dataframe tbody tr th {\n",
       "        vertical-align: top;\n",
       "    }\n",
       "\n",
       "    .dataframe thead th {\n",
       "        text-align: right;\n",
       "    }\n",
       "</style>\n",
       "<table border=\"1\" class=\"dataframe\">\n",
       "  <thead>\n",
       "    <tr style=\"text-align: right;\">\n",
       "      <th></th>\n",
       "      <th>honey</th>\n",
       "      <th>legume</th>\n",
       "      <th>group</th>\n",
       "    </tr>\n",
       "    <tr>\n",
       "      <th>filename</th>\n",
       "      <th></th>\n",
       "      <th></th>\n",
       "      <th></th>\n",
       "    </tr>\n",
       "  </thead>\n",
       "  <tbody>\n",
       "    <tr>\n",
       "      <th>NIST_POS_Samp_07-01.mzXML</th>\n",
       "      <td>0.0</td>\n",
       "      <td>477.0</td>\n",
       "      <td>G1</td>\n",
       "    </tr>\n",
       "    <tr>\n",
       "      <th>NIST_POS_Samp_07-02.mzXML</th>\n",
       "      <td>0.0</td>\n",
       "      <td>338.0</td>\n",
       "      <td>G1</td>\n",
       "    </tr>\n",
       "    <tr>\n",
       "      <th>NIST_POS_Samp_07-03.mzXML</th>\n",
       "      <td>0.0</td>\n",
       "      <td>404.0</td>\n",
       "      <td>G1</td>\n",
       "    </tr>\n",
       "    <tr>\n",
       "      <th>NIST_POS_Samp_08-01.mzXML</th>\n",
       "      <td>0.0</td>\n",
       "      <td>477.0</td>\n",
       "      <td>G1</td>\n",
       "    </tr>\n",
       "    <tr>\n",
       "      <th>NIST_POS_Samp_08-02.mzXML</th>\n",
       "      <td>0.0</td>\n",
       "      <td>374.0</td>\n",
       "      <td>G1</td>\n",
       "    </tr>\n",
       "  </tbody>\n",
       "</table>\n",
       "</div>"
      ],
      "text/plain": [
       "                           honey  legume group\n",
       "filename                                      \n",
       "NIST_POS_Samp_07-01.mzXML    0.0   477.0    G1\n",
       "NIST_POS_Samp_07-02.mzXML    0.0   338.0    G1\n",
       "NIST_POS_Samp_07-03.mzXML    0.0   404.0    G1\n",
       "NIST_POS_Samp_08-01.mzXML    0.0   477.0    G1\n",
       "NIST_POS_Samp_08-02.mzXML    0.0   374.0    G1"
      ]
     },
     "execution_count": 9,
     "metadata": {},
     "output_type": "execute_result"
    }
   ],
   "source": [
    "# Convert counts to wide format for level 3\n",
    "try:\n",
    "    wide_counts = food_counts_to_wide(filtered_counts)\n",
    "    print(\"Wide-format Food Counts (first 5 rows):\")\n",
    "    wide_counts.head()\n",
    "except ValueError as e:\n",
    "    print(f\"Error converting to wide format: {e}\")\n",
    "wide_counts.head()"
   ]
  },
  {
   "cell_type": "code",
   "execution_count": 10,
   "metadata": {},
   "outputs": [
    {
     "data": {
      "text/html": [
       "<div>\n",
       "<style scoped>\n",
       "    .dataframe tbody tr th:only-of-type {\n",
       "        vertical-align: middle;\n",
       "    }\n",
       "\n",
       "    .dataframe tbody tr th {\n",
       "        vertical-align: top;\n",
       "    }\n",
       "\n",
       "    .dataframe thead th {\n",
       "        text-align: right;\n",
       "    }\n",
       "</style>\n",
       "<table border=\"1\" class=\"dataframe\">\n",
       "  <thead>\n",
       "    <tr style=\"text-align: right;\">\n",
       "      <th></th>\n",
       "      <th>ant</th>\n",
       "      <th>berry</th>\n",
       "      <th>butter</th>\n",
       "      <th>cheese</th>\n",
       "      <th>citrus</th>\n",
       "      <th>corn husk</th>\n",
       "      <th>cow</th>\n",
       "      <th>cream</th>\n",
       "      <th>drupe</th>\n",
       "      <th>drupe_aggregate</th>\n",
       "      <th>...</th>\n",
       "      <th>seaweed</th>\n",
       "      <th>seed</th>\n",
       "      <th>shellfish</th>\n",
       "      <th>sugarcane</th>\n",
       "      <th>tea/infusion</th>\n",
       "      <th>vegetable</th>\n",
       "      <th>worm</th>\n",
       "      <th>yeast</th>\n",
       "      <th>yogurt</th>\n",
       "      <th>group</th>\n",
       "    </tr>\n",
       "    <tr>\n",
       "      <th>filename</th>\n",
       "      <th></th>\n",
       "      <th></th>\n",
       "      <th></th>\n",
       "      <th></th>\n",
       "      <th></th>\n",
       "      <th></th>\n",
       "      <th></th>\n",
       "      <th></th>\n",
       "      <th></th>\n",
       "      <th></th>\n",
       "      <th></th>\n",
       "      <th></th>\n",
       "      <th></th>\n",
       "      <th></th>\n",
       "      <th></th>\n",
       "      <th></th>\n",
       "      <th></th>\n",
       "      <th></th>\n",
       "      <th></th>\n",
       "      <th></th>\n",
       "      <th></th>\n",
       "    </tr>\n",
       "  </thead>\n",
       "  <tbody>\n",
       "    <tr>\n",
       "      <th>NIST_POS_Samp_07-01.mzXML</th>\n",
       "      <td>0.0</td>\n",
       "      <td>0.246345</td>\n",
       "      <td>0.0</td>\n",
       "      <td>0.009379</td>\n",
       "      <td>0.022897</td>\n",
       "      <td>0.009655</td>\n",
       "      <td>0.079862</td>\n",
       "      <td>0.0</td>\n",
       "      <td>0.021793</td>\n",
       "      <td>0.0</td>\n",
       "      <td>...</td>\n",
       "      <td>0.008414</td>\n",
       "      <td>0.0</td>\n",
       "      <td>0.008276</td>\n",
       "      <td>0.007310</td>\n",
       "      <td>0.060069</td>\n",
       "      <td>0.062414</td>\n",
       "      <td>0.000000</td>\n",
       "      <td>0.0</td>\n",
       "      <td>0.069793</td>\n",
       "      <td>G1</td>\n",
       "    </tr>\n",
       "    <tr>\n",
       "      <th>NIST_POS_Samp_07-02.mzXML</th>\n",
       "      <td>0.0</td>\n",
       "      <td>0.240357</td>\n",
       "      <td>0.0</td>\n",
       "      <td>0.012257</td>\n",
       "      <td>0.022170</td>\n",
       "      <td>0.012257</td>\n",
       "      <td>0.093097</td>\n",
       "      <td>0.0</td>\n",
       "      <td>0.020728</td>\n",
       "      <td>0.0</td>\n",
       "      <td>...</td>\n",
       "      <td>0.009193</td>\n",
       "      <td>0.0</td>\n",
       "      <td>0.008201</td>\n",
       "      <td>0.007480</td>\n",
       "      <td>0.049928</td>\n",
       "      <td>0.056417</td>\n",
       "      <td>0.000000</td>\n",
       "      <td>0.0</td>\n",
       "      <td>0.076424</td>\n",
       "      <td>G1</td>\n",
       "    </tr>\n",
       "    <tr>\n",
       "      <th>NIST_POS_Samp_07-03.mzXML</th>\n",
       "      <td>0.0</td>\n",
       "      <td>0.224737</td>\n",
       "      <td>0.0</td>\n",
       "      <td>0.011864</td>\n",
       "      <td>0.024232</td>\n",
       "      <td>0.012032</td>\n",
       "      <td>0.087674</td>\n",
       "      <td>0.0</td>\n",
       "      <td>0.021540</td>\n",
       "      <td>0.0</td>\n",
       "      <td>...</td>\n",
       "      <td>0.008835</td>\n",
       "      <td>0.0</td>\n",
       "      <td>0.008835</td>\n",
       "      <td>0.007657</td>\n",
       "      <td>0.046361</td>\n",
       "      <td>0.060076</td>\n",
       "      <td>0.000000</td>\n",
       "      <td>0.0</td>\n",
       "      <td>0.075053</td>\n",
       "      <td>G1</td>\n",
       "    </tr>\n",
       "    <tr>\n",
       "      <th>NIST_POS_Samp_08-01.mzXML</th>\n",
       "      <td>0.0</td>\n",
       "      <td>0.244350</td>\n",
       "      <td>0.0</td>\n",
       "      <td>0.009139</td>\n",
       "      <td>0.025080</td>\n",
       "      <td>0.010485</td>\n",
       "      <td>0.089621</td>\n",
       "      <td>0.0</td>\n",
       "      <td>0.022600</td>\n",
       "      <td>0.0</td>\n",
       "      <td>...</td>\n",
       "      <td>0.007935</td>\n",
       "      <td>0.0</td>\n",
       "      <td>0.007722</td>\n",
       "      <td>0.006376</td>\n",
       "      <td>0.051718</td>\n",
       "      <td>0.060999</td>\n",
       "      <td>0.004747</td>\n",
       "      <td>0.0</td>\n",
       "      <td>0.064329</td>\n",
       "      <td>G1</td>\n",
       "    </tr>\n",
       "    <tr>\n",
       "      <th>NIST_POS_Samp_08-02.mzXML</th>\n",
       "      <td>0.0</td>\n",
       "      <td>0.236408</td>\n",
       "      <td>0.0</td>\n",
       "      <td>0.011599</td>\n",
       "      <td>0.024146</td>\n",
       "      <td>0.011757</td>\n",
       "      <td>0.089166</td>\n",
       "      <td>0.0</td>\n",
       "      <td>0.020832</td>\n",
       "      <td>0.0</td>\n",
       "      <td>...</td>\n",
       "      <td>0.009153</td>\n",
       "      <td>0.0</td>\n",
       "      <td>0.007496</td>\n",
       "      <td>0.007654</td>\n",
       "      <td>0.053578</td>\n",
       "      <td>0.064862</td>\n",
       "      <td>0.000000</td>\n",
       "      <td>0.0</td>\n",
       "      <td>0.068966</td>\n",
       "      <td>G1</td>\n",
       "    </tr>\n",
       "  </tbody>\n",
       "</table>\n",
       "<p>5 rows × 40 columns</p>\n",
       "</div>"
      ],
      "text/plain": [
       "                           ant     berry  butter    cheese    citrus  \\\n",
       "filename                                                               \n",
       "NIST_POS_Samp_07-01.mzXML  0.0  0.246345     0.0  0.009379  0.022897   \n",
       "NIST_POS_Samp_07-02.mzXML  0.0  0.240357     0.0  0.012257  0.022170   \n",
       "NIST_POS_Samp_07-03.mzXML  0.0  0.224737     0.0  0.011864  0.024232   \n",
       "NIST_POS_Samp_08-01.mzXML  0.0  0.244350     0.0  0.009139  0.025080   \n",
       "NIST_POS_Samp_08-02.mzXML  0.0  0.236408     0.0  0.011599  0.024146   \n",
       "\n",
       "                           corn husk       cow  cream     drupe  \\\n",
       "filename                                                          \n",
       "NIST_POS_Samp_07-01.mzXML   0.009655  0.079862    0.0  0.021793   \n",
       "NIST_POS_Samp_07-02.mzXML   0.012257  0.093097    0.0  0.020728   \n",
       "NIST_POS_Samp_07-03.mzXML   0.012032  0.087674    0.0  0.021540   \n",
       "NIST_POS_Samp_08-01.mzXML   0.010485  0.089621    0.0  0.022600   \n",
       "NIST_POS_Samp_08-02.mzXML   0.011757  0.089166    0.0  0.020832   \n",
       "\n",
       "                           drupe_aggregate  ...   seaweed  seed  shellfish  \\\n",
       "filename                                    ...                              \n",
       "NIST_POS_Samp_07-01.mzXML              0.0  ...  0.008414   0.0   0.008276   \n",
       "NIST_POS_Samp_07-02.mzXML              0.0  ...  0.009193   0.0   0.008201   \n",
       "NIST_POS_Samp_07-03.mzXML              0.0  ...  0.008835   0.0   0.008835   \n",
       "NIST_POS_Samp_08-01.mzXML              0.0  ...  0.007935   0.0   0.007722   \n",
       "NIST_POS_Samp_08-02.mzXML              0.0  ...  0.009153   0.0   0.007496   \n",
       "\n",
       "                           sugarcane  tea/infusion  vegetable      worm  \\\n",
       "filename                                                                  \n",
       "NIST_POS_Samp_07-01.mzXML   0.007310      0.060069   0.062414  0.000000   \n",
       "NIST_POS_Samp_07-02.mzXML   0.007480      0.049928   0.056417  0.000000   \n",
       "NIST_POS_Samp_07-03.mzXML   0.007657      0.046361   0.060076  0.000000   \n",
       "NIST_POS_Samp_08-01.mzXML   0.006376      0.051718   0.060999  0.004747   \n",
       "NIST_POS_Samp_08-02.mzXML   0.007654      0.053578   0.064862  0.000000   \n",
       "\n",
       "                           yeast    yogurt  group  \n",
       "filename                                           \n",
       "NIST_POS_Samp_07-01.mzXML    0.0  0.069793     G1  \n",
       "NIST_POS_Samp_07-02.mzXML    0.0  0.076424     G1  \n",
       "NIST_POS_Samp_07-03.mzXML    0.0  0.075053     G1  \n",
       "NIST_POS_Samp_08-01.mzXML    0.0  0.064329     G1  \n",
       "NIST_POS_Samp_08-02.mzXML    0.0  0.068966     G1  \n",
       "\n",
       "[5 rows x 40 columns]"
      ]
     },
     "execution_count": 10,
     "metadata": {},
     "output_type": "execute_result"
    }
   ],
   "source": [
    "calculate_proportions(counts, 4).head()"
   ]
  },
  {
   "cell_type": "markdown",
   "metadata": {},
   "source": [
    "7. Updating Groups from Metadata <a name=\"7\"></a>"
   ]
  },
  {
   "cell_type": "code",
   "execution_count": 11,
   "metadata": {},
   "outputs": [
    {
     "name": "stdout",
     "output_type": "stream",
     "text": [
      "Groups updated successfully.\n"
     ]
    },
    {
     "data": {
      "text/html": [
       "<div>\n",
       "<style scoped>\n",
       "    .dataframe tbody tr th:only-of-type {\n",
       "        vertical-align: middle;\n",
       "    }\n",
       "\n",
       "    .dataframe tbody tr th {\n",
       "        vertical-align: top;\n",
       "    }\n",
       "\n",
       "    .dataframe thead th {\n",
       "        text-align: right;\n",
       "    }\n",
       "</style>\n",
       "<table border=\"1\" class=\"dataframe\">\n",
       "  <thead>\n",
       "    <tr style=\"text-align: right;\">\n",
       "      <th></th>\n",
       "      <th>filename</th>\n",
       "      <th>food_type</th>\n",
       "      <th>count</th>\n",
       "      <th>level</th>\n",
       "      <th>group</th>\n",
       "    </tr>\n",
       "  </thead>\n",
       "  <tbody>\n",
       "    <tr>\n",
       "      <th>13783</th>\n",
       "      <td>NIST_POS_Samp_17-02.mzXML</td>\n",
       "      <td>11442.G75784</td>\n",
       "      <td>16</td>\n",
       "      <td>0</td>\n",
       "      <td>G2</td>\n",
       "    </tr>\n",
       "    <tr>\n",
       "      <th>78637</th>\n",
       "      <td>NIST_POS_Samp_11-02.mzXML</td>\n",
       "      <td>flower</td>\n",
       "      <td>12</td>\n",
       "      <td>6</td>\n",
       "      <td>G2</td>\n",
       "    </tr>\n",
       "    <tr>\n",
       "      <th>85082</th>\n",
       "      <td>NIST_POS_Samp_11-03.mzXML</td>\n",
       "      <td>peanut</td>\n",
       "      <td>42</td>\n",
       "      <td>6</td>\n",
       "      <td>G2</td>\n",
       "    </tr>\n",
       "    <tr>\n",
       "      <th>33254</th>\n",
       "      <td>NIST_POS_Samp_15-03.mzXML</td>\n",
       "      <td>11442.G87364</td>\n",
       "      <td>5</td>\n",
       "      <td>0</td>\n",
       "      <td>G1</td>\n",
       "    </tr>\n",
       "    <tr>\n",
       "      <th>63886</th>\n",
       "      <td>NIST_POS_Samp_14-02.mzXML</td>\n",
       "      <td>G96663</td>\n",
       "      <td>4</td>\n",
       "      <td>0</td>\n",
       "      <td>G1</td>\n",
       "    </tr>\n",
       "  </tbody>\n",
       "</table>\n",
       "</div>"
      ],
      "text/plain": [
       "                        filename     food_type  count  level group\n",
       "13783  NIST_POS_Samp_17-02.mzXML  11442.G75784     16      0    G2\n",
       "78637  NIST_POS_Samp_11-02.mzXML        flower     12      6    G2\n",
       "85082  NIST_POS_Samp_11-03.mzXML        peanut     42      6    G2\n",
       "33254  NIST_POS_Samp_15-03.mzXML  11442.G87364      5      0    G1\n",
       "63886  NIST_POS_Samp_14-02.mzXML        G96663      4      0    G1"
      ]
     },
     "execution_count": 11,
     "metadata": {},
     "output_type": "execute_result"
    }
   ],
   "source": [
    "# Assume we have a metadata file with updated group information\n",
    "metadata_file = os.path.join(module_path, \"data\", \"veg_omn_metadata.csv\")\n",
    "\n",
    "merge_column = \"new_group\"\n",
    "\n",
    "try:\n",
    "    food_counts.update_groups(metadata_file, merge_column)\n",
    "    print(\"Groups updated successfully.\")\n",
    "except ValueError as e:\n",
    "    print(f\"Error updating groups: {e}\")\n",
    "\n",
    "food_counts.counts.sample(5)"
   ]
  },
  {
   "cell_type": "code",
   "execution_count": 12,
   "metadata": {},
   "outputs": [
    {
     "data": {
      "text/html": [
       "<div>\n",
       "<style scoped>\n",
       "    .dataframe tbody tr th:only-of-type {\n",
       "        vertical-align: middle;\n",
       "    }\n",
       "\n",
       "    .dataframe tbody tr th {\n",
       "        vertical-align: top;\n",
       "    }\n",
       "\n",
       "    .dataframe thead th {\n",
       "        text-align: right;\n",
       "    }\n",
       "</style>\n",
       "<table border=\"1\" class=\"dataframe\">\n",
       "  <thead>\n",
       "    <tr style=\"text-align: right;\">\n",
       "      <th></th>\n",
       "      <th>group</th>\n",
       "      <th>filename</th>\n",
       "    </tr>\n",
       "  </thead>\n",
       "  <tbody>\n",
       "    <tr>\n",
       "      <th>8</th>\n",
       "      <td>G1</td>\n",
       "      <td>NIST_POS_Samp_09-02.mzXML</td>\n",
       "    </tr>\n",
       "    <tr>\n",
       "      <th>35</th>\n",
       "      <td>G1</td>\n",
       "      <td>NIST_POS_Samp_15-03.mzXML</td>\n",
       "    </tr>\n",
       "    <tr>\n",
       "      <th>16</th>\n",
       "      <td>G2</td>\n",
       "      <td>NIST_POS_Samp_12-01.mzXML</td>\n",
       "    </tr>\n",
       "    <tr>\n",
       "      <th>30</th>\n",
       "      <td>G1</td>\n",
       "      <td>NIST_POS_Samp_13-02.mzXML</td>\n",
       "    </tr>\n",
       "    <tr>\n",
       "      <th>20</th>\n",
       "      <td>G2</td>\n",
       "      <td>NIST_POS_Samp_11-03.mzXML</td>\n",
       "    </tr>\n",
       "    <tr>\n",
       "      <th>12</th>\n",
       "      <td>G2</td>\n",
       "      <td>NIST_POS_Samp_17-01.mzXML</td>\n",
       "    </tr>\n",
       "    <tr>\n",
       "      <th>11</th>\n",
       "      <td>G1</td>\n",
       "      <td>NIST_POS_Samp_14-03.mzXML</td>\n",
       "    </tr>\n",
       "    <tr>\n",
       "      <th>5</th>\n",
       "      <td>G2</td>\n",
       "      <td>NIST_POS_Samp_17-02.mzXML</td>\n",
       "    </tr>\n",
       "    <tr>\n",
       "      <th>31</th>\n",
       "      <td>G1</td>\n",
       "      <td>NIST_POS_Samp_09-03.mzXML</td>\n",
       "    </tr>\n",
       "    <tr>\n",
       "      <th>13</th>\n",
       "      <td>G2</td>\n",
       "      <td>NIST_POS_Samp_18-02.mzXML</td>\n",
       "    </tr>\n",
       "  </tbody>\n",
       "</table>\n",
       "</div>"
      ],
      "text/plain": [
       "   group                   filename\n",
       "8     G1  NIST_POS_Samp_09-02.mzXML\n",
       "35    G1  NIST_POS_Samp_15-03.mzXML\n",
       "16    G2  NIST_POS_Samp_12-01.mzXML\n",
       "30    G1  NIST_POS_Samp_13-02.mzXML\n",
       "20    G2  NIST_POS_Samp_11-03.mzXML\n",
       "12    G2  NIST_POS_Samp_17-01.mzXML\n",
       "11    G1  NIST_POS_Samp_14-03.mzXML\n",
       "5     G2  NIST_POS_Samp_17-02.mzXML\n",
       "31    G1  NIST_POS_Samp_09-03.mzXML\n",
       "13    G2  NIST_POS_Samp_18-02.mzXML"
      ]
     },
     "execution_count": 12,
     "metadata": {},
     "output_type": "execute_result"
    }
   ],
   "source": [
    "food_counts.sample_metadata.sample(10)"
   ]
  },
  {
   "cell_type": "markdown",
   "metadata": {},
   "source": [
    "8. Visualizing Food Type Distribution <a name=\"8\"></a>"
   ]
  },
  {
   "cell_type": "code",
   "execution_count": 13,
   "metadata": {},
   "outputs": [
    {
     "data": {
      "image/png": "[encoded data removed]",
      "text/plain": [
       "<Figure size 1000x600 with 1 Axes>"
      ]
     },
     "execution_count": 13,
     "metadata": {},
     "output_type": "execute_result"
    },
    {
     "data": {
      "image/png": "[encoded data removed]",
      "text/plain": [
       "<Figure size 1000x600 with 1 Axes>"
      ]
     },
     "metadata": {},
     "output_type": "display_data"
    }
   ],
   "source": [
    "# Plot the distribution of food types at level 3\n",
    "# Filter counts for level 3\n",
    "fig = plot_food_type_distribution(\n",
    "    food_counts_instance=food_counts, level=4, group_by=True, library=\"sns\")\n",
    "# Display the plot\n",
    "fig"
   ]
  },
  {
   "cell_type": "code",
   "execution_count": 14,
   "metadata": {},
   "outputs": [
    {
     "name": "stderr",
     "output_type": "stream",
     "text": [
      "c:\\Users\\amca2\\anaconda3\\Lib\\site-packages\\seaborn\\_oldcore.py:1119: FutureWarning: use_inf_as_na option is deprecated and will be removed in a future version. Convert inf values to NaN before operating instead.\n",
      "  with pd.option_context('mode.use_inf_as_na', True):\n",
      "c:\\Users\\amca2\\anaconda3\\Lib\\site-packages\\seaborn\\_oldcore.py:1119: FutureWarning: use_inf_as_na option is deprecated and will be removed in a future version. Convert inf values to NaN before operating instead.\n",
      "  with pd.option_context('mode.use_inf_as_na', True):\n",
      "C:\\Users\\amca2\\AppData\\Local\\Temp\\ipykernel_34052\\1863137443.py:4: UserWarning: FigureCanvasAgg is non-interactive, and thus cannot be shown\n",
      "  fig_boxplot.show()\n"
     ]
    },
    {
     "data": {
      "image/png": "[encoded data removed]",
      "text/plain": [
       "<Figure size 1000x600 with 1 Axes>"
      ]
     },
     "metadata": {},
     "output_type": "display_data"
    }
   ],
   "source": [
    "fig_boxplot = box_plot_food_proportions(\n",
    "    food_counts, level=3, group_by=True, library=\"sns\", food_types=[\"meat\"]\n",
    ")\n",
    "fig_boxplot.show()"
   ]
  },
  {
   "cell_type": "code",
   "execution_count": 15,
   "metadata": {},
   "outputs": [
    {
     "data": {
      "image/png": "[encoded data removed]",
      "text/plain": [
       "<Figure size 1200x800 with 2 Axes>"
      ]
     },
     "metadata": {},
     "output_type": "display_data"
    },
    {
     "name": "stderr",
     "output_type": "stream",
     "text": [
      "C:\\Users\\amca2\\AppData\\Local\\Temp\\ipykernel_34052\\3258477283.py:4: UserWarning: FigureCanvasAgg is non-interactive, and thus cannot be shown\n",
      "  fig_heatmap.show()\n"
     ]
    }
   ],
   "source": [
    "fig_heatmap = plot_food_proportion_heatmap(\n",
    "    food_counts_instance=food_counts, library=\"sns\"\n",
    ")\n",
    "fig_heatmap.show()"
   ]
  },
  {
   "cell_type": "code",
   "execution_count": 16,
   "metadata": {},
   "outputs": [],
   "source": [
    "pca_df, explained_variance = perform_pca_food_counts(\n",
    "    food_counts_instance=food_counts, level=0\n",
    ")\n"
   ]
  },
  {
   "cell_type": "code",
   "execution_count": 17,
   "metadata": {},
   "outputs": [
    {
     "data": {
      "application/vnd.plotly.v1+json": {
       "config": {
        "plotlyServerURL": "https://plot.ly"
       },
       "data": [
        {
         "text": [
          "34.4%",
          "13.9%",
          "10.9%"
         ],
         "textposition": "auto",
         "type": "bar",
         "x": [
          "PC1",
          "PC2",
          "PC3"
         ],
         "y": [
          34.41590352496831,
          13.871930492687873,
          10.937347391809048
         ]
        }
       ],
       "layout": {
        "template": {
         "data": {
          "bar": [
           {
            "error_x": {
             "color": "#2a3f5f"
            },
            "error_y": {
             "color": "#2a3f5f"
            },
            "marker": {
             "line": {
              "color": "white",
              "width": 0.5
             },
             "pattern": {
              "fillmode": "overlay",
              "size": 10,
              "solidity": 0.2
             }
            },
            "type": "bar"
           }
          ],
          "barpolar": [
           {
            "marker": {
             "line": {
              "color": "white",
              "width": 0.5
             },
             "pattern": {
              "fillmode": "overlay",
              "size": 10,
              "solidity": 0.2
             }
            },
            "type": "barpolar"
           }
          ],
          "carpet": [
           {
            "aaxis": {
             "endlinecolor": "#2a3f5f",
             "gridcolor": "#C8D4E3",
             "linecolor": "#C8D4E3",
             "minorgridcolor": "#C8D4E3",
             "startlinecolor": "#2a3f5f"
            },
            "baxis": {
             "endlinecolor": "#2a3f5f",
             "gridcolor": "#C8D4E3",
             "linecolor": "#C8D4E3",
             "minorgridcolor": "#C8D4E3",
             "startlinecolor": "#2a3f5f"
            },
            "type": "carpet"
           }
          ],
          "choropleth": [
           {
            "colorbar": {
             "outlinewidth": 0,
             "ticks": ""
            },
            "type": "choropleth"
           }
          ],
          "contour": [
           {
            "colorbar": {
             "outlinewidth": 0,
             "ticks": ""
            },
            "colorscale": [
             [
              0,
              "#0d0887"
             ],
             [
              0.1111111111111111,
              "#46039f"
             ],
             [
              0.2222222222222222,
              "#7201a8"
             ],
             [
              0.3333333333333333,
              "#9c179e"
             ],
             [
              0.4444444444444444,
              "#bd3786"
             ],
             [
              0.5555555555555556,
              "#d8576b"
             ],
             [
              0.6666666666666666,
              "#ed7953"
             ],
             [
              0.7777777777777778,
              "#fb9f3a"
             ],
             [
              0.8888888888888888,
              "#fdca26"
             ],
             [
              1,
              "#f0f921"
             ]
            ],
            "type": "contour"
           }
          ],
          "contourcarpet": [
           {
            "colorbar": {
             "outlinewidth": 0,
             "ticks": ""
            },
            "type": "contourcarpet"
           }
          ],
          "heatmap": [
           {
            "colorbar": {
             "outlinewidth": 0,
             "ticks": ""
            },
            "colorscale": [
             [
              0,
              "#0d0887"
             ],
             [
              0.1111111111111111,
              "#46039f"
             ],
             [
              0.2222222222222222,
              "#7201a8"
             ],
             [
              0.3333333333333333,
              "#9c179e"
             ],
             [
              0.4444444444444444,
              "#bd3786"
             ],
             [
              0.5555555555555556,
              "#d8576b"
             ],
             [
              0.6666666666666666,
              "#ed7953"
             ],
             [
              0.7777777777777778,
              "#fb9f3a"
             ],
             [
              0.8888888888888888,
              "#fdca26"
             ],
             [
              1,
              "#f0f921"
             ]
            ],
            "type": "heatmap"
           }
          ],
          "heatmapgl": [
           {
            "colorbar": {
             "outlinewidth": 0,
             "ticks": ""
            },
            "colorscale": [
             [
              0,
              "#0d0887"
             ],
             [
              0.1111111111111111,
              "#46039f"
             ],
             [
              0.2222222222222222,
              "#7201a8"
             ],
             [
              0.3333333333333333,
              "#9c179e"
             ],
             [
              0.4444444444444444,
              "#bd3786"
             ],
             [
              0.5555555555555556,
              "#d8576b"
             ],
             [
              0.6666666666666666,
              "#ed7953"
             ],
             [
              0.7777777777777778,
              "#fb9f3a"
             ],
             [
              0.8888888888888888,
              "#fdca26"
             ],
             [
              1,
              "#f0f921"
             ]
            ],
            "type": "heatmapgl"
           }
          ],
          "histogram": [
           {
            "marker": {
             "pattern": {
              "fillmode": "overlay",
              "size": 10,
              "solidity": 0.2
             }
            },
            "type": "histogram"
           }
          ],
          "histogram2d": [
           {
            "colorbar": {
             "outlinewidth": 0,
             "ticks": ""
            },
            "colorscale": [
             [
              0,
              "#0d0887"
             ],
             [
              0.1111111111111111,
              "#46039f"
             ],
             [
              0.2222222222222222,
              "#7201a8"
             ],
             [
              0.3333333333333333,
              "#9c179e"
             ],
             [
              0.4444444444444444,
              "#bd3786"
             ],
             [
              0.5555555555555556,
              "#d8576b"
             ],
             [
              0.6666666666666666,
              "#ed7953"
             ],
             [
              0.7777777777777778,
              "#fb9f3a"
             ],
             [
              0.8888888888888888,
              "#fdca26"
             ],
             [
              1,
              "#f0f921"
             ]
            ],
            "type": "histogram2d"
           }
          ],
          "histogram2dcontour": [
           {
            "colorbar": {
             "outlinewidth": 0,
             "ticks": ""
            },
            "colorscale": [
             [
              0,
              "#0d0887"
             ],
             [
              0.1111111111111111,
              "#46039f"
             ],
             [
              0.2222222222222222,
              "#7201a8"
             ],
             [
              0.3333333333333333,
              "#9c179e"
             ],
             [
              0.4444444444444444,
              "#bd3786"
             ],
             [
              0.5555555555555556,
              "#d8576b"
             ],
             [
              0.6666666666666666,
              "#ed7953"
             ],
             [
              0.7777777777777778,
              "#fb9f3a"
             ],
             [
              0.8888888888888888,
              "#fdca26"
             ],
             [
              1,
              "#f0f921"
             ]
            ],
            "type": "histogram2dcontour"
           }
          ],
          "mesh3d": [
           {
            "colorbar": {
             "outlinewidth": 0,
             "ticks": ""
            },
            "type": "mesh3d"
           }
          ],
          "parcoords": [
           {
            "line": {
             "colorbar": {
              "outlinewidth": 0,
              "ticks": ""
             }
            },
            "type": "parcoords"
           }
          ],
          "pie": [
           {
            "automargin": true,
            "type": "pie"
           }
          ],
          "scatter": [
           {
            "fillpattern": {
             "fillmode": "overlay",
             "size": 10,
             "solidity": 0.2
            },
            "type": "scatter"
           }
          ],
          "scatter3d": [
           {
            "line": {
             "colorbar": {
              "outlinewidth": 0,
              "ticks": ""
             }
            },
            "marker": {
             "colorbar": {
              "outlinewidth": 0,
              "ticks": ""
             }
            },
            "type": "scatter3d"
           }
          ],
          "scattercarpet": [
           {
            "marker": {
             "colorbar": {
              "outlinewidth": 0,
              "ticks": ""
             }
            },
            "type": "scattercarpet"
           }
          ],
          "scattergeo": [
           {
            "marker": {
             "colorbar": {
              "outlinewidth": 0,
              "ticks": ""
             }
            },
            "type": "scattergeo"
           }
          ],
          "scattergl": [
           {
            "marker": {
             "colorbar": {
              "outlinewidth": 0,
              "ticks": ""
             }
            },
            "type": "scattergl"
           }
          ],
          "scattermapbox": [
           {
            "marker": {
             "colorbar": {
              "outlinewidth": 0,
              "ticks": ""
             }
            },
            "type": "scattermapbox"
           }
          ],
          "scatterpolar": [
           {
            "marker": {
             "colorbar": {
              "outlinewidth": 0,
              "ticks": ""
             }
            },
            "type": "scatterpolar"
           }
          ],
          "scatterpolargl": [
           {
            "marker": {
             "colorbar": {
              "outlinewidth": 0,
              "ticks": ""
             }
            },
            "type": "scatterpolargl"
           }
          ],
          "scatterternary": [
           {
            "marker": {
             "colorbar": {
              "outlinewidth": 0,
              "ticks": ""
             }
            },
            "type": "scatterternary"
           }
          ],
          "surface": [
           {
            "colorbar": {
             "outlinewidth": 0,
             "ticks": ""
            },
            "colorscale": [
             [
              0,
              "#0d0887"
             ],
             [
              0.1111111111111111,
              "#46039f"
             ],
             [
              0.2222222222222222,
              "#7201a8"
             ],
             [
              0.3333333333333333,
              "#9c179e"
             ],
             [
              0.4444444444444444,
              "#bd3786"
             ],
             [
              0.5555555555555556,
              "#d8576b"
             ],
             [
              0.6666666666666666,
              "#ed7953"
             ],
             [
              0.7777777777777778,
              "#fb9f3a"
             ],
             [
              0.8888888888888888,
              "#fdca26"
             ],
             [
              1,
              "#f0f921"
             ]
            ],
            "type": "surface"
           }
          ],
          "table": [
           {
            "cells": {
             "fill": {
              "color": "#EBF0F8"
             },
             "line": {
              "color": "white"
             }
            },
            "header": {
             "fill": {
              "color": "#C8D4E3"
             },
             "line": {
              "color": "white"
             }
            },
            "type": "table"
           }
          ]
         },
         "layout": {
          "annotationdefaults": {
           "arrowcolor": "#2a3f5f",
           "arrowhead": 0,
           "arrowwidth": 1
          },
          "autotypenumbers": "strict",
          "coloraxis": {
           "colorbar": {
            "outlinewidth": 0,
            "ticks": ""
           }
          },
          "colorscale": {
           "diverging": [
            [
             0,
             "#8e0152"
            ],
            [
             0.1,
             "#c51b7d"
            ],
            [
             0.2,
             "#de77ae"
            ],
            [
             0.3,
             "#f1b6da"
            ],
            [
             0.4,
             "#fde0ef"
            ],
            [
             0.5,
             "#f7f7f7"
            ],
            [
             0.6,
             "#e6f5d0"
            ],
            [
             0.7,
             "#b8e186"
            ],
            [
             0.8,
             "#7fbc41"
            ],
            [
             0.9,
             "#4d9221"
            ],
            [
             1,
             "#276419"
            ]
           ],
           "sequential": [
            [
             0,
             "#0d0887"
            ],
            [
             0.1111111111111111,
             "#46039f"
            ],
            [
             0.2222222222222222,
             "#7201a8"
            ],
            [
             0.3333333333333333,
             "#9c179e"
            ],
            [
             0.4444444444444444,
             "#bd3786"
            ],
            [
             0.5555555555555556,
             "#d8576b"
            ],
            [
             0.6666666666666666,
             "#ed7953"
            ],
            [
             0.7777777777777778,
             "#fb9f3a"
            ],
            [
             0.8888888888888888,
             "#fdca26"
            ],
            [
             1,
             "#f0f921"
            ]
           ],
           "sequentialminus": [
            [
             0,
             "#0d0887"
            ],
            [
             0.1111111111111111,
             "#46039f"
            ],
            [
             0.2222222222222222,
             "#7201a8"
            ],
            [
             0.3333333333333333,
             "#9c179e"
            ],
            [
             0.4444444444444444,
             "#bd3786"
            ],
            [
             0.5555555555555556,
             "#d8576b"
            ],
            [
             0.6666666666666666,
             "#ed7953"
            ],
            [
             0.7777777777777778,
             "#fb9f3a"
            ],
            [
             0.8888888888888888,
             "#fdca26"
            ],
            [
             1,
             "#f0f921"
            ]
           ]
          },
          "colorway": [
           "#636efa",
           "#EF553B",
           "#00cc96",
           "#ab63fa",
           "#FFA15A",
           "#19d3f3",
           "#FF6692",
           "#B6E880",
           "#FF97FF",
           "#FECB52"
          ],
          "font": {
           "color": "#2a3f5f"
          },
          "geo": {
           "bgcolor": "white",
           "lakecolor": "white",
           "landcolor": "white",
           "showlakes": true,
           "showland": true,
           "subunitcolor": "#C8D4E3"
          },
          "hoverlabel": {
           "align": "left"
          },
          "hovermode": "closest",
          "mapbox": {
           "style": "light"
          },
          "paper_bgcolor": "white",
          "plot_bgcolor": "white",
          "polar": {
           "angularaxis": {
            "gridcolor": "#EBF0F8",
            "linecolor": "#EBF0F8",
            "ticks": ""
           },
           "bgcolor": "white",
           "radialaxis": {
            "gridcolor": "#EBF0F8",
            "linecolor": "#EBF0F8",
            "ticks": ""
           }
          },
          "scene": {
           "xaxis": {
            "backgroundcolor": "white",
            "gridcolor": "#DFE8F3",
            "gridwidth": 2,
            "linecolor": "#EBF0F8",
            "showbackground": true,
            "ticks": "",
            "zerolinecolor": "#EBF0F8"
           },
           "yaxis": {
            "backgroundcolor": "white",
            "gridcolor": "#DFE8F3",
            "gridwidth": 2,
            "linecolor": "#EBF0F8",
            "showbackground": true,
            "ticks": "",
            "zerolinecolor": "#EBF0F8"
           },
           "zaxis": {
            "backgroundcolor": "white",
            "gridcolor": "#DFE8F3",
            "gridwidth": 2,
            "linecolor": "#EBF0F8",
            "showbackground": true,
            "ticks": "",
            "zerolinecolor": "#EBF0F8"
           }
          },
          "shapedefaults": {
           "line": {
            "color": "#2a3f5f"
           }
          },
          "ternary": {
           "aaxis": {
            "gridcolor": "#DFE8F3",
            "linecolor": "#A2B1C6",
            "ticks": ""
           },
           "baxis": {
            "gridcolor": "#DFE8F3",
            "linecolor": "#A2B1C6",
            "ticks": ""
           },
           "bgcolor": "white",
           "caxis": {
            "gridcolor": "#DFE8F3",
            "linecolor": "#A2B1C6",
            "ticks": ""
           }
          },
          "title": {
           "x": 0.05
          },
          "xaxis": {
           "automargin": true,
           "gridcolor": "#EBF0F8",
           "linecolor": "#EBF0F8",
           "ticks": "",
           "title": {
            "standoff": 15
           },
           "zerolinecolor": "#EBF0F8",
           "zerolinewidth": 2
          },
          "yaxis": {
           "automargin": true,
           "gridcolor": "#EBF0F8",
           "linecolor": "#EBF0F8",
           "ticks": "",
           "title": {
            "standoff": 15
           },
           "zerolinecolor": "#EBF0F8",
           "zerolinewidth": 2
          }
         }
        },
        "title": {
         "text": "Explained Variance by Principal Component"
        },
        "xaxis": {
         "title": {
          "text": "Principal Component"
         }
        },
        "yaxis": {
         "title": {
          "text": "Explained Variance (%)"
         }
        }
       }
      }
     },
     "metadata": {},
     "output_type": "display_data"
    }
   ],
   "source": [
    "plot_explained_variance(explained_variance)"
   ]
  },
  {
   "cell_type": "code",
   "execution_count": 19,
   "metadata": {},
   "outputs": [
    {
     "name": "stdout",
     "output_type": "stream",
     "text": [
      "FoodCounts object initialized successfully.\n"
     ]
    }
   ],
   "source": [
    "# Define the groups\n",
    "all_groups = [\"G1\"]  # Study spectrum file groups\n",
    "some_groups = [\"G4\"]  # Reference spectrum file groups\n",
    "\n",
    "# Initialize the FoodCounts class\n",
    "try:\n",
    "    food_counts = FoodCounts(\n",
    "        gnps_network=gnps_network_path,\n",
    "        sample_types=\"simple\",  # Options: 'simple', 'complex', 'all'\n",
    "        sample_groups=all_groups,\n",
    "        reference_groups=some_groups,\n",
    "        levels=3\n",
    "    )\n",
    "    print(\"FoodCounts object initialized successfully.\")\n",
    "except ValueError as e:\n",
    "    print(f\"Error initializing FoodCounts: {e}\")"
   ]
  },
  {
   "cell_type": "code",
   "execution_count": 20,
   "metadata": {},
   "outputs": [
    {
     "data": {
      "text/plain": [
       "Index(['filename', 'food_type', 'count', 'level', 'group'], dtype='object')"
      ]
     },
     "execution_count": 20,
     "metadata": {},
     "output_type": "execute_result"
    }
   ],
   "source": [
    "food_counts.counts.columns"
   ]
  },
  {
   "cell_type": "code",
   "execution_count": 21,
   "metadata": {},
   "outputs": [
    {
     "data": {
      "application/vnd.plotly.v1+json": {
       "config": {
        "plotlyServerURL": "https://plot.ly"
       },
       "data": [
        {
         "mode": "markers",
         "name": "G1",
         "type": "scatter",
         "x": [
          -13.253787223581869,
          -23.71543514612014,
          -37.38736187940219,
          -7.63837864734571,
          -23.404999149562585,
          -27.386081732408844,
          -19.268513416706234,
          -10.95330653113914,
          -30.51900458924146,
          -41.20270996573099,
          -31.025112505821067,
          -37.17476615990298,
          -15.436167534443902,
          -24.823208173714036,
          -22.546156928859126,
          33.976608148689216,
          -19.327505331367007,
          -8.620058715373844
         ],
         "y": [
          -20.567274771742056,
          -12.745223157789313,
          -3.095810935936103,
          -27.23669054051047,
          -8.787914529831001,
          -9.298377355981934,
          -18.740678553360873,
          -21.220862725655255,
          -9.728352144066356,
          2.3668214607269884,
          12.070451946142288,
          15.573641825028947,
          1.5025519448151,
          14.261844935471064,
          18.26686503603913,
          5.966101546087201,
          11.314881251496992,
          7.971536609293485
         ]
        },
        {
         "mode": "markers",
         "name": "G2",
         "type": "scatter",
         "x": [
          50.83132665672248,
          24.338293427147338,
          0.6932064430210927,
          27.42280186832833,
          12.699341403960267,
          9.975729268397687,
          27.841115566874713,
          31.279552639181688,
          6.264982215904601,
          42.42092554367356,
          20.36447112506813,
          -1.9381912201780724,
          22.258720980446604,
          41.185954280130765,
          4.114512674979704,
          16.296272037630654,
          20.309692585033897,
          3.3472379857084054
         ],
         "y": [
          -11.391642538181848,
          -18.342277338351728,
          4.726065219425231,
          -20.222807843897513,
          -24.517836199954004,
          1.0975250757643527,
          -23.49918239704849,
          -15.035632783224088,
          -11.830542615394279,
          24.949402234805557,
          14.313564884337723,
          27.77600710872167,
          18.71008144345185,
          9.461521139242972,
          21.469042142454537,
          5.019911820609025,
          20.445489812193745,
          18.997798994817423
         ]
        }
       ],
       "layout": {
        "template": {
         "data": {
          "bar": [
           {
            "error_x": {
             "color": "#2a3f5f"
            },
            "error_y": {
             "color": "#2a3f5f"
            },
            "marker": {
             "line": {
              "color": "white",
              "width": 0.5
             },
             "pattern": {
              "fillmode": "overlay",
              "size": 10,
              "solidity": 0.2
             }
            },
            "type": "bar"
           }
          ],
          "barpolar": [
           {
            "marker": {
             "line": {
              "color": "white",
              "width": 0.5
             },
             "pattern": {
              "fillmode": "overlay",
              "size": 10,
              "solidity": 0.2
             }
            },
            "type": "barpolar"
           }
          ],
          "carpet": [
           {
            "aaxis": {
             "endlinecolor": "#2a3f5f",
             "gridcolor": "#C8D4E3",
             "linecolor": "#C8D4E3",
             "minorgridcolor": "#C8D4E3",
             "startlinecolor": "#2a3f5f"
            },
            "baxis": {
             "endlinecolor": "#2a3f5f",
             "gridcolor": "#C8D4E3",
             "linecolor": "#C8D4E3",
             "minorgridcolor": "#C8D4E3",
             "startlinecolor": "#2a3f5f"
            },
            "type": "carpet"
           }
          ],
          "choropleth": [
           {
            "colorbar": {
             "outlinewidth": 0,
             "ticks": ""
            },
            "type": "choropleth"
           }
          ],
          "contour": [
           {
            "colorbar": {
             "outlinewidth": 0,
             "ticks": ""
            },
            "colorscale": [
             [
              0,
              "#0d0887"
             ],
             [
              0.1111111111111111,
              "#46039f"
             ],
             [
              0.2222222222222222,
              "#7201a8"
             ],
             [
              0.3333333333333333,
              "#9c179e"
             ],
             [
              0.4444444444444444,
              "#bd3786"
             ],
             [
              0.5555555555555556,
              "#d8576b"
             ],
             [
              0.6666666666666666,
              "#ed7953"
             ],
             [
              0.7777777777777778,
              "#fb9f3a"
             ],
             [
              0.8888888888888888,
              "#fdca26"
             ],
             [
              1,
              "#f0f921"
             ]
            ],
            "type": "contour"
           }
          ],
          "contourcarpet": [
           {
            "colorbar": {
             "outlinewidth": 0,
             "ticks": ""
            },
            "type": "contourcarpet"
           }
          ],
          "heatmap": [
           {
            "colorbar": {
             "outlinewidth": 0,
             "ticks": ""
            },
            "colorscale": [
             [
              0,
              "#0d0887"
             ],
             [
              0.1111111111111111,
              "#46039f"
             ],
             [
              0.2222222222222222,
              "#7201a8"
             ],
             [
              0.3333333333333333,
              "#9c179e"
             ],
             [
              0.4444444444444444,
              "#bd3786"
             ],
             [
              0.5555555555555556,
              "#d8576b"
             ],
             [
              0.6666666666666666,
              "#ed7953"
             ],
             [
              0.7777777777777778,
              "#fb9f3a"
             ],
             [
              0.8888888888888888,
              "#fdca26"
             ],
             [
              1,
              "#f0f921"
             ]
            ],
            "type": "heatmap"
           }
          ],
          "heatmapgl": [
           {
            "colorbar": {
             "outlinewidth": 0,
             "ticks": ""
            },
            "colorscale": [
             [
              0,
              "#0d0887"
             ],
             [
              0.1111111111111111,
              "#46039f"
             ],
             [
              0.2222222222222222,
              "#7201a8"
             ],
             [
              0.3333333333333333,
              "#9c179e"
             ],
             [
              0.4444444444444444,
              "#bd3786"
             ],
             [
              0.5555555555555556,
              "#d8576b"
             ],
             [
              0.6666666666666666,
              "#ed7953"
             ],
             [
              0.7777777777777778,
              "#fb9f3a"
             ],
             [
              0.8888888888888888,
              "#fdca26"
             ],
             [
              1,
              "#f0f921"
             ]
            ],
            "type": "heatmapgl"
           }
          ],
          "histogram": [
           {
            "marker": {
             "pattern": {
              "fillmode": "overlay",
              "size": 10,
              "solidity": 0.2
             }
            },
            "type": "histogram"
           }
          ],
          "histogram2d": [
           {
            "colorbar": {
             "outlinewidth": 0,
             "ticks": ""
            },
            "colorscale": [
             [
              0,
              "#0d0887"
             ],
             [
              0.1111111111111111,
              "#46039f"
             ],
             [
              0.2222222222222222,
              "#7201a8"
             ],
             [
              0.3333333333333333,
              "#9c179e"
             ],
             [
              0.4444444444444444,
              "#bd3786"
             ],
             [
              0.5555555555555556,
              "#d8576b"
             ],
             [
              0.6666666666666666,
              "#ed7953"
             ],
             [
              0.7777777777777778,
              "#fb9f3a"
             ],
             [
              0.8888888888888888,
              "#fdca26"
             ],
             [
              1,
              "#f0f921"
             ]
            ],
            "type": "histogram2d"
           }
          ],
          "histogram2dcontour": [
           {
            "colorbar": {
             "outlinewidth": 0,
             "ticks": ""
            },
            "colorscale": [
             [
              0,
              "#0d0887"
             ],
             [
              0.1111111111111111,
              "#46039f"
             ],
             [
              0.2222222222222222,
              "#7201a8"
             ],
             [
              0.3333333333333333,
              "#9c179e"
             ],
             [
              0.4444444444444444,
              "#bd3786"
             ],
             [
              0.5555555555555556,
              "#d8576b"
             ],
             [
              0.6666666666666666,
              "#ed7953"
             ],
             [
              0.7777777777777778,
              "#fb9f3a"
             ],
             [
              0.8888888888888888,
              "#fdca26"
             ],
             [
              1,
              "#f0f921"
             ]
            ],
            "type": "histogram2dcontour"
           }
          ],
          "mesh3d": [
           {
            "colorbar": {
             "outlinewidth": 0,
             "ticks": ""
            },
            "type": "mesh3d"
           }
          ],
          "parcoords": [
           {
            "line": {
             "colorbar": {
              "outlinewidth": 0,
              "ticks": ""
             }
            },
            "type": "parcoords"
           }
          ],
          "pie": [
           {
            "automargin": true,
            "type": "pie"
           }
          ],
          "scatter": [
           {
            "fillpattern": {
             "fillmode": "overlay",
             "size": 10,
             "solidity": 0.2
            },
            "type": "scatter"
           }
          ],
          "scatter3d": [
           {
            "line": {
             "colorbar": {
              "outlinewidth": 0,
              "ticks": ""
             }
            },
            "marker": {
             "colorbar": {
              "outlinewidth": 0,
              "ticks": ""
             }
            },
            "type": "scatter3d"
           }
          ],
          "scattercarpet": [
           {
            "marker": {
             "colorbar": {
              "outlinewidth": 0,
              "ticks": ""
             }
            },
            "type": "scattercarpet"
           }
          ],
          "scattergeo": [
           {
            "marker": {
             "colorbar": {
              "outlinewidth": 0,
              "ticks": ""
             }
            },
            "type": "scattergeo"
           }
          ],
          "scattergl": [
           {
            "marker": {
             "colorbar": {
              "outlinewidth": 0,
              "ticks": ""
             }
            },
            "type": "scattergl"
           }
          ],
          "scattermapbox": [
           {
            "marker": {
             "colorbar": {
              "outlinewidth": 0,
              "ticks": ""
             }
            },
            "type": "scattermapbox"
           }
          ],
          "scatterpolar": [
           {
            "marker": {
             "colorbar": {
              "outlinewidth": 0,
              "ticks": ""
             }
            },
            "type": "scatterpolar"
           }
          ],
          "scatterpolargl": [
           {
            "marker": {
             "colorbar": {
              "outlinewidth": 0,
              "ticks": ""
             }
            },
            "type": "scatterpolargl"
           }
          ],
          "scatterternary": [
           {
            "marker": {
             "colorbar": {
              "outlinewidth": 0,
              "ticks": ""
             }
            },
            "type": "scatterternary"
           }
          ],
          "surface": [
           {
            "colorbar": {
             "outlinewidth": 0,
             "ticks": ""
            },
            "colorscale": [
             [
              0,
              "#0d0887"
             ],
             [
              0.1111111111111111,
              "#46039f"
             ],
             [
              0.2222222222222222,
              "#7201a8"
             ],
             [
              0.3333333333333333,
              "#9c179e"
             ],
             [
              0.4444444444444444,
              "#bd3786"
             ],
             [
              0.5555555555555556,
              "#d8576b"
             ],
             [
              0.6666666666666666,
              "#ed7953"
             ],
             [
              0.7777777777777778,
              "#fb9f3a"
             ],
             [
              0.8888888888888888,
              "#fdca26"
             ],
             [
              1,
              "#f0f921"
             ]
            ],
            "type": "surface"
           }
          ],
          "table": [
           {
            "cells": {
             "fill": {
              "color": "#EBF0F8"
             },
             "line": {
              "color": "white"
             }
            },
            "header": {
             "fill": {
              "color": "#C8D4E3"
             },
             "line": {
              "color": "white"
             }
            },
            "type": "table"
           }
          ]
         },
         "layout": {
          "annotationdefaults": {
           "arrowcolor": "#2a3f5f",
           "arrowhead": 0,
           "arrowwidth": 1
          },
          "autotypenumbers": "strict",
          "coloraxis": {
           "colorbar": {
            "outlinewidth": 0,
            "ticks": ""
           }
          },
          "colorscale": {
           "diverging": [
            [
             0,
             "#8e0152"
            ],
            [
             0.1,
             "#c51b7d"
            ],
            [
             0.2,
             "#de77ae"
            ],
            [
             0.3,
             "#f1b6da"
            ],
            [
             0.4,
             "#fde0ef"
            ],
            [
             0.5,
             "#f7f7f7"
            ],
            [
             0.6,
             "#e6f5d0"
            ],
            [
             0.7,
             "#b8e186"
            ],
            [
             0.8,
             "#7fbc41"
            ],
            [
             0.9,
             "#4d9221"
            ],
            [
             1,
             "#276419"
            ]
           ],
           "sequential": [
            [
             0,
             "#0d0887"
            ],
            [
             0.1111111111111111,
             "#46039f"
            ],
            [
             0.2222222222222222,
             "#7201a8"
            ],
            [
             0.3333333333333333,
             "#9c179e"
            ],
            [
             0.4444444444444444,
             "#bd3786"
            ],
            [
             0.5555555555555556,
             "#d8576b"
            ],
            [
             0.6666666666666666,
             "#ed7953"
            ],
            [
             0.7777777777777778,
             "#fb9f3a"
            ],
            [
             0.8888888888888888,
             "#fdca26"
            ],
            [
             1,
             "#f0f921"
            ]
           ],
           "sequentialminus": [
            [
             0,
             "#0d0887"
            ],
            [
             0.1111111111111111,
             "#46039f"
            ],
            [
             0.2222222222222222,
             "#7201a8"
            ],
            [
             0.3333333333333333,
             "#9c179e"
            ],
            [
             0.4444444444444444,
             "#bd3786"
            ],
            [
             0.5555555555555556,
             "#d8576b"
            ],
            [
             0.6666666666666666,
             "#ed7953"
            ],
            [
             0.7777777777777778,
             "#fb9f3a"
            ],
            [
             0.8888888888888888,
             "#fdca26"
            ],
            [
             1,
             "#f0f921"
            ]
           ]
          },
          "colorway": [
           "#636efa",
           "#EF553B",
           "#00cc96",
           "#ab63fa",
           "#FFA15A",
           "#19d3f3",
           "#FF6692",
           "#B6E880",
           "#FF97FF",
           "#FECB52"
          ],
          "font": {
           "color": "#2a3f5f"
          },
          "geo": {
           "bgcolor": "white",
           "lakecolor": "white",
           "landcolor": "white",
           "showlakes": true,
           "showland": true,
           "subunitcolor": "#C8D4E3"
          },
          "hoverlabel": {
           "align": "left"
          },
          "hovermode": "closest",
          "mapbox": {
           "style": "light"
          },
          "paper_bgcolor": "white",
          "plot_bgcolor": "white",
          "polar": {
           "angularaxis": {
            "gridcolor": "#EBF0F8",
            "linecolor": "#EBF0F8",
            "ticks": ""
           },
           "bgcolor": "white",
           "radialaxis": {
            "gridcolor": "#EBF0F8",
            "linecolor": "#EBF0F8",
            "ticks": ""
           }
          },
          "scene": {
           "xaxis": {
            "backgroundcolor": "white",
            "gridcolor": "#DFE8F3",
            "gridwidth": 2,
            "linecolor": "#EBF0F8",
            "showbackground": true,
            "ticks": "",
            "zerolinecolor": "#EBF0F8"
           },
           "yaxis": {
            "backgroundcolor": "white",
            "gridcolor": "#DFE8F3",
            "gridwidth": 2,
            "linecolor": "#EBF0F8",
            "showbackground": true,
            "ticks": "",
            "zerolinecolor": "#EBF0F8"
           },
           "zaxis": {
            "backgroundcolor": "white",
            "gridcolor": "#DFE8F3",
            "gridwidth": 2,
            "linecolor": "#EBF0F8",
            "showbackground": true,
            "ticks": "",
            "zerolinecolor": "#EBF0F8"
           }
          },
          "shapedefaults": {
           "line": {
            "color": "#2a3f5f"
           }
          },
          "ternary": {
           "aaxis": {
            "gridcolor": "#DFE8F3",
            "linecolor": "#A2B1C6",
            "ticks": ""
           },
           "baxis": {
            "gridcolor": "#DFE8F3",
            "linecolor": "#A2B1C6",
            "ticks": ""
           },
           "bgcolor": "white",
           "caxis": {
            "gridcolor": "#DFE8F3",
            "linecolor": "#A2B1C6",
            "ticks": ""
           }
          },
          "title": {
           "x": 0.05
          },
          "xaxis": {
           "automargin": true,
           "gridcolor": "#EBF0F8",
           "linecolor": "#EBF0F8",
           "ticks": "",
           "title": {
            "standoff": 15
           },
           "zerolinecolor": "#EBF0F8",
           "zerolinewidth": 2
          },
          "yaxis": {
           "automargin": true,
           "gridcolor": "#EBF0F8",
           "linecolor": "#EBF0F8",
           "ticks": "",
           "title": {
            "standoff": 15
           },
           "zerolinecolor": "#EBF0F8",
           "zerolinewidth": 2
          }
         }
        },
        "title": {
         "text": "PCA Plot of Food Counts"
        },
        "xaxis": {
         "title": {
          "text": "PC1 [34.4%]"
         }
        },
        "yaxis": {
         "title": {
          "text": "PC2 [13.9%]"
         }
        }
       }
      }
     },
     "metadata": {},
     "output_type": "display_data"
    }
   ],
   "source": [
    "plot_pca_results(pca_df, explained_variance, library=\"plotly\")"
   ]
  }
 ],
 "metadata": {
  "kernelspec": {
   "display_name": "base",
   "language": "python",
   "name": "python3"
  },
  "language_info": {
   "codemirror_mode": {
    "name": "ipython",
    "version": 3
   },
   "file_extension": ".py",
   "mimetype": "text/x-python",
   "name": "python",
   "nbconvert_exporter": "python",
   "pygments_lexer": "ipython3",
   "version": "3.11.7"
  }
 },
 "nbformat": 4,
 "nbformat_minor": 2
}
