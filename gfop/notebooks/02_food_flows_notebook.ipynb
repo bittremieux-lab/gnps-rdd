{
 "cells": [
  {
   "cell_type": "markdown",
   "metadata": {},
   "source": [
    "1. Setup and Imports <a name=\"1\"></a>\n",
    "\n",
    "First, set up the environment by importing necessary libraries and adjusting the system path to include the module directory."
   ]
  },
  {
   "cell_type": "code",
   "execution_count": 1,
   "metadata": {},
   "outputs": [],
   "source": [
    "import os\n",
    "import sys\n",
    "import pandas as pd\n",
    "\n",
    "# Add the path to the 'gfop' directory\n",
    "module_path = os.path.abspath(os.path.join(\"..\"))\n",
    "if module_path not in sys.path:\n",
    "    sys.path.append(module_path)\n",
    "\n",
    "# Import the FoodCounts class\n",
    "from foodflows import FoodFlows\n",
    "from visualization import visualize_sankey"
   ]
  },
  {
   "cell_type": "markdown",
   "metadata": {},
   "source": [
    "2. Loading GNPS Network Data <a name=\"2\"></a>\n",
    "\n",
    "Load a sample GNPS network file for demonstration purposes."
   ]
  },
  {
   "cell_type": "code",
   "execution_count": 2,
   "metadata": {},
   "outputs": [
    {
     "name": "stdout",
     "output_type": "stream",
     "text": [
      "c:\\Users\\amca2\\Documents\\GitHub\\gnps_rdd\\gfop\\data\\sample_gnps_vegomn.tsv\n",
      "Sample GNPS Network Data:\n"
     ]
    },
    {
     "data": {
      "text/html": [
       "<div>\n",
       "<style scoped>\n",
       "    .dataframe tbody tr th:only-of-type {\n",
       "        vertical-align: middle;\n",
       "    }\n",
       "\n",
       "    .dataframe tbody tr th {\n",
       "        vertical-align: top;\n",
       "    }\n",
       "\n",
       "    .dataframe thead th {\n",
       "        text-align: right;\n",
       "    }\n",
       "</style>\n",
       "<table border=\"1\" class=\"dataframe\">\n",
       "  <thead>\n",
       "    <tr style=\"text-align: right;\">\n",
       "      <th></th>\n",
       "      <th>AllGroups</th>\n",
       "      <th>DefaultGroups</th>\n",
       "      <th>EvenOdd</th>\n",
       "      <th>G1</th>\n",
       "      <th>G2</th>\n",
       "      <th>G3</th>\n",
       "      <th>G4</th>\n",
       "      <th>G5</th>\n",
       "      <th>G6</th>\n",
       "      <th>GNPSLinkout_Cluster</th>\n",
       "      <th>...</th>\n",
       "      <th>SpectrumID</th>\n",
       "      <th>UniqueFileSources</th>\n",
       "      <th>UniqueFileSourcesCount</th>\n",
       "      <th>cluster index</th>\n",
       "      <th>componentindex</th>\n",
       "      <th>number of spectra</th>\n",
       "      <th>parent mass</th>\n",
       "      <th>precursor charge</th>\n",
       "      <th>precursor mass</th>\n",
       "      <th>sum(precursor intensity)</th>\n",
       "    </tr>\n",
       "  </thead>\n",
       "  <tbody>\n",
       "    <tr>\n",
       "      <th>0</th>\n",
       "      <td></td>\n",
       "      <td>G1</td>\n",
       "      <td>0</td>\n",
       "      <td>2</td>\n",
       "      <td>0</td>\n",
       "      <td>0</td>\n",
       "      <td>0</td>\n",
       "      <td>0</td>\n",
       "      <td>0</td>\n",
       "      <td>https://gnps.ucsd.edu//ProteoSAFe/result.jsp?t...</td>\n",
       "      <td>...</td>\n",
       "      <td>NaN</td>\n",
       "      <td>NIST_POS_Samp_07-03.mzXML|NIST_POS_Samp_07-02....</td>\n",
       "      <td>2</td>\n",
       "      <td>2</td>\n",
       "      <td>-1</td>\n",
       "      <td>2</td>\n",
       "      <td>301.198</td>\n",
       "      <td>3</td>\n",
       "      <td>101.066</td>\n",
       "      <td>873428.0</td>\n",
       "    </tr>\n",
       "    <tr>\n",
       "      <th>1</th>\n",
       "      <td></td>\n",
       "      <td>G1,G4</td>\n",
       "      <td>0</td>\n",
       "      <td>56</td>\n",
       "      <td>0</td>\n",
       "      <td>0</td>\n",
       "      <td>26</td>\n",
       "      <td>0</td>\n",
       "      <td>0</td>\n",
       "      <td>https://gnps.ucsd.edu//ProteoSAFe/result.jsp?t...</td>\n",
       "      <td>...</td>\n",
       "      <td>NaN</td>\n",
       "      <td>NIST_POS_Samp_11-01.mzXML|NIST_POS_Samp_10-03....</td>\n",
       "      <td>36</td>\n",
       "      <td>3</td>\n",
       "      <td>-1</td>\n",
       "      <td>82</td>\n",
       "      <td>203.061</td>\n",
       "      <td>2</td>\n",
       "      <td>102.030</td>\n",
       "      <td>285315000.0</td>\n",
       "    </tr>\n",
       "    <tr>\n",
       "      <th>2</th>\n",
       "      <td></td>\n",
       "      <td>G1,G4</td>\n",
       "      <td>0</td>\n",
       "      <td>54</td>\n",
       "      <td>0</td>\n",
       "      <td>0</td>\n",
       "      <td>13</td>\n",
       "      <td>0</td>\n",
       "      <td>0</td>\n",
       "      <td>https://gnps.ucsd.edu//ProteoSAFe/result.jsp?t...</td>\n",
       "      <td>...</td>\n",
       "      <td>NaN</td>\n",
       "      <td>NIST_POS_Samp_11-01.mzXML|NIST_POS_Samp_10-03....</td>\n",
       "      <td>27</td>\n",
       "      <td>8</td>\n",
       "      <td>467</td>\n",
       "      <td>67</td>\n",
       "      <td>219.033</td>\n",
       "      <td>2</td>\n",
       "      <td>110.016</td>\n",
       "      <td>97144900.0</td>\n",
       "    </tr>\n",
       "    <tr>\n",
       "      <th>3</th>\n",
       "      <td></td>\n",
       "      <td>G4</td>\n",
       "      <td>0</td>\n",
       "      <td>0</td>\n",
       "      <td>0</td>\n",
       "      <td>0</td>\n",
       "      <td>11</td>\n",
       "      <td>0</td>\n",
       "      <td>0</td>\n",
       "      <td>https://gnps.ucsd.edu//ProteoSAFe/result.jsp?t...</td>\n",
       "      <td>...</td>\n",
       "      <td>NaN</td>\n",
       "      <td>G000073461_170522182039.mzXML|G000073462_17052...</td>\n",
       "      <td>3</td>\n",
       "      <td>9</td>\n",
       "      <td>467</td>\n",
       "      <td>11</td>\n",
       "      <td>221.071</td>\n",
       "      <td>2</td>\n",
       "      <td>111.035</td>\n",
       "      <td>45839100.0</td>\n",
       "    </tr>\n",
       "    <tr>\n",
       "      <th>4</th>\n",
       "      <td></td>\n",
       "      <td>G1,G4</td>\n",
       "      <td>0</td>\n",
       "      <td>1</td>\n",
       "      <td>0</td>\n",
       "      <td>0</td>\n",
       "      <td>25</td>\n",
       "      <td>0</td>\n",
       "      <td>0</td>\n",
       "      <td>https://gnps.ucsd.edu//ProteoSAFe/result.jsp?t...</td>\n",
       "      <td>...</td>\n",
       "      <td>NaN</td>\n",
       "      <td>G86787_1x_RG10_01_23372.mzXML|RB5_RB5_01_49070...</td>\n",
       "      <td>26</td>\n",
       "      <td>10</td>\n",
       "      <td>-1</td>\n",
       "      <td>26</td>\n",
       "      <td>904.661</td>\n",
       "      <td>8</td>\n",
       "      <td>113.958</td>\n",
       "      <td>1133780.0</td>\n",
       "    </tr>\n",
       "  </tbody>\n",
       "</table>\n",
       "<p>5 rows × 29 columns</p>\n",
       "</div>"
      ],
      "text/plain": [
       "  AllGroups DefaultGroups  EvenOdd  G1  G2  G3  G4  G5  G6  \\\n",
       "0                      G1        0   2   0   0   0   0   0   \n",
       "1                   G1,G4        0  56   0   0  26   0   0   \n",
       "2                   G1,G4        0  54   0   0  13   0   0   \n",
       "3                      G4        0   0   0   0  11   0   0   \n",
       "4                   G1,G4        0   1   0   0  25   0   0   \n",
       "\n",
       "                                 GNPSLinkout_Cluster  ... SpectrumID  \\\n",
       "0  https://gnps.ucsd.edu//ProteoSAFe/result.jsp?t...  ...        NaN   \n",
       "1  https://gnps.ucsd.edu//ProteoSAFe/result.jsp?t...  ...        NaN   \n",
       "2  https://gnps.ucsd.edu//ProteoSAFe/result.jsp?t...  ...        NaN   \n",
       "3  https://gnps.ucsd.edu//ProteoSAFe/result.jsp?t...  ...        NaN   \n",
       "4  https://gnps.ucsd.edu//ProteoSAFe/result.jsp?t...  ...        NaN   \n",
       "\n",
       "                                   UniqueFileSources  UniqueFileSourcesCount  \\\n",
       "0  NIST_POS_Samp_07-03.mzXML|NIST_POS_Samp_07-02....                       2   \n",
       "1  NIST_POS_Samp_11-01.mzXML|NIST_POS_Samp_10-03....                      36   \n",
       "2  NIST_POS_Samp_11-01.mzXML|NIST_POS_Samp_10-03....                      27   \n",
       "3  G000073461_170522182039.mzXML|G000073462_17052...                       3   \n",
       "4  G86787_1x_RG10_01_23372.mzXML|RB5_RB5_01_49070...                      26   \n",
       "\n",
       "   cluster index  componentindex  number of spectra  parent mass  \\\n",
       "0              2              -1                  2      301.198   \n",
       "1              3              -1                 82      203.061   \n",
       "2              8             467                 67      219.033   \n",
       "3              9             467                 11      221.071   \n",
       "4             10              -1                 26      904.661   \n",
       "\n",
       "   precursor charge precursor mass sum(precursor intensity)  \n",
       "0                 3        101.066                 873428.0  \n",
       "1                 2        102.030              285315000.0  \n",
       "2                 2        110.016               97144900.0  \n",
       "3                 2        111.035               45839100.0  \n",
       "4                 8        113.958                1133780.0  \n",
       "\n",
       "[5 rows x 29 columns]"
      ]
     },
     "execution_count": 2,
     "metadata": {},
     "output_type": "execute_result"
    }
   ],
   "source": [
    "# Define the path to the sample GNPS network file\n",
    "gnps_network_path = os.path.join(module_path, \"data\", \"sample_gnps_vegomn.tsv\")\n",
    "print(gnps_network_path)\n",
    "# Check if the file exists\n",
    "if not os.path.exists(gnps_network_path):\n",
    "    raise FileNotFoundError(f\"GNPS network file not found at {gnps_network_path}\")\n",
    "\n",
    "# Read the GNPS network data\n",
    "gnps_network_df = pd.read_csv(gnps_network_path, sep=\"\\t\")\n",
    "\n",
    "# Display the first few rows\n",
    "print(\"Sample GNPS Network Data:\")\n",
    "gnps_network_df.head()"
   ]
  },
  {
   "cell_type": "markdown",
   "metadata": {},
   "source": [
    "3. Initializing the FoodFlows Class <a name=\"3\"></a>\n",
    "\n",
    "Initialize the FoodFlows class by providing the GNPS network file path, sample types, group names, max hierarchy level"
   ]
  },
  {
   "cell_type": "code",
   "execution_count": 3,
   "metadata": {},
   "outputs": [],
   "source": [
    "food_flows = FoodFlows(gnps_network_path, \"simple\", [\"G1\", \"G4\"], 4)"
   ]
  },
  {
   "cell_type": "code",
   "execution_count": 4,
   "metadata": {},
   "outputs": [
    {
     "data": {
      "text/html": [
       "<div>\n",
       "<style scoped>\n",
       "    .dataframe tbody tr th:only-of-type {\n",
       "        vertical-align: middle;\n",
       "    }\n",
       "\n",
       "    .dataframe tbody tr th {\n",
       "        vertical-align: top;\n",
       "    }\n",
       "\n",
       "    .dataframe thead th {\n",
       "        text-align: right;\n",
       "    }\n",
       "</style>\n",
       "<table border=\"1\" class=\"dataframe\">\n",
       "  <thead>\n",
       "    <tr style=\"text-align: right;\">\n",
       "      <th></th>\n",
       "      <th>level</th>\n",
       "    </tr>\n",
       "    <tr>\n",
       "      <th>id</th>\n",
       "      <th></th>\n",
       "    </tr>\n",
       "  </thead>\n",
       "  <tbody>\n",
       "    <tr>\n",
       "      <th>algae_1</th>\n",
       "      <td>1</td>\n",
       "    </tr>\n",
       "    <tr>\n",
       "      <th>animal_1</th>\n",
       "      <td>1</td>\n",
       "    </tr>\n",
       "    <tr>\n",
       "      <th>plant_1</th>\n",
       "      <td>1</td>\n",
       "    </tr>\n",
       "    <tr>\n",
       "      <th>algae_2</th>\n",
       "      <td>2</td>\n",
       "    </tr>\n",
       "    <tr>\n",
       "      <th>animal_2</th>\n",
       "      <td>2</td>\n",
       "    </tr>\n",
       "  </tbody>\n",
       "</table>\n",
       "</div>"
      ],
      "text/plain": [
       "          level\n",
       "id             \n",
       "algae_1       1\n",
       "animal_1      1\n",
       "plant_1       1\n",
       "algae_2       2\n",
       "animal_2      2"
      ]
     },
     "execution_count": 4,
     "metadata": {},
     "output_type": "execute_result"
    }
   ],
   "source": [
    "food_flows.processes.head()"
   ]
  },
  {
   "cell_type": "code",
   "execution_count": 5,
   "metadata": {},
   "outputs": [
    {
     "data": {
      "text/html": [
       "<div>\n",
       "<style scoped>\n",
       "    .dataframe tbody tr th:only-of-type {\n",
       "        vertical-align: middle;\n",
       "    }\n",
       "\n",
       "    .dataframe tbody tr th {\n",
       "        vertical-align: top;\n",
       "    }\n",
       "\n",
       "    .dataframe thead th {\n",
       "        text-align: right;\n",
       "    }\n",
       "</style>\n",
       "<table border=\"1\" class=\"dataframe\">\n",
       "  <thead>\n",
       "    <tr style=\"text-align: right;\">\n",
       "      <th></th>\n",
       "      <th>source</th>\n",
       "      <th>target</th>\n",
       "      <th>value</th>\n",
       "      <th>type</th>\n",
       "    </tr>\n",
       "  </thead>\n",
       "  <tbody>\n",
       "    <tr>\n",
       "      <th>0</th>\n",
       "      <td>algae_1</td>\n",
       "      <td>algae_2</td>\n",
       "      <td>196</td>\n",
       "      <td>algae_2</td>\n",
       "    </tr>\n",
       "    <tr>\n",
       "      <th>1</th>\n",
       "      <td>animal_1</td>\n",
       "      <td>animal_2</td>\n",
       "      <td>7576</td>\n",
       "      <td>animal_2</td>\n",
       "    </tr>\n",
       "    <tr>\n",
       "      <th>2</th>\n",
       "      <td>animal_1</td>\n",
       "      <td>invertebrate_2</td>\n",
       "      <td>130</td>\n",
       "      <td>invertebrate_2</td>\n",
       "    </tr>\n",
       "    <tr>\n",
       "      <th>3</th>\n",
       "      <td>plant_1</td>\n",
       "      <td>fruit_2</td>\n",
       "      <td>14313</td>\n",
       "      <td>fruit_2</td>\n",
       "    </tr>\n",
       "    <tr>\n",
       "      <th>4</th>\n",
       "      <td>plant_1</td>\n",
       "      <td>vegetable/herb_2</td>\n",
       "      <td>5023</td>\n",
       "      <td>vegetable/herb_2</td>\n",
       "    </tr>\n",
       "  </tbody>\n",
       "</table>\n",
       "</div>"
      ],
      "text/plain": [
       "     source            target  value              type\n",
       "0   algae_1           algae_2    196           algae_2\n",
       "1  animal_1          animal_2   7576          animal_2\n",
       "2  animal_1    invertebrate_2    130    invertebrate_2\n",
       "3   plant_1           fruit_2  14313           fruit_2\n",
       "4   plant_1  vegetable/herb_2   5023  vegetable/herb_2"
      ]
     },
     "execution_count": 5,
     "metadata": {},
     "output_type": "execute_result"
    }
   ],
   "source": [
    "food_flows.flows.head()"
   ]
  },
  {
   "cell_type": "markdown",
   "metadata": {},
   "source": [
    "3. Visualize Sankey Diagram <a name=\"4\"></a>\n",
    "\n",
    "Use the food flows class to visualize the Sankey Diagram"
   ]
  },
  {
   "cell_type": "code",
   "execution_count": 6,
   "metadata": {},
   "outputs": [],
   "source": [
    "color_file_path = os.path.join(module_path, \"data\", \"sample_type_hierarchy.csv\")"
   ]
  },
  {
   "cell_type": "code",
   "execution_count": 7,
   "metadata": {},
   "outputs": [
    {
     "name": "stderr",
     "output_type": "stream",
     "text": [
      "c:\\Users\\amca2\\Documents\\GitHub\\gnps_rdd\\gfop\\visualization.py:538: ParserWarning: Falling back to the 'python' engine because the 'c' engine does not support regex separators (separators > 1 char and different from '\\s+' are interpreted as regex); you can avoid this warning by specifying engine='python'.\n",
      "  color_df = pd.read_csv(color_mapping_file, sep=\"\\;\")\n"
     ]
    },
    {
     "data": {
      "application/vnd.plotly.v1+json": {
       "config": {
        "plotlyServerURL": "https://plot.ly"
       },
       "data": [
        {
         "link": {
          "color": [
           "#3CB371",
           "#8B1A1A",
           "#8B1A1A",
           "#458B00",
           "#458B00",
           "#3CB371",
           "#8B1A1A",
           "#8B1A1A",
           "#8B1A1A",
           "#8B1A1A",
           "#8B1A1A",
           "#2AC469",
           "#2AC469",
           "#2AC469",
           "#FFDEAD",
           "#228B22",
           "#CDC9A5",
           "#CDC9A5",
           "#CDC9A5",
           "#CD5B45",
           "#008B45",
           "#008B45",
           "#008B45",
           "#008B45",
           "#008B45",
           "#597131",
           "#FFDEAD",
           "#556B2F",
           "#CD2626",
           "#CD2626",
           "#CD2626",
           "#CD919E",
           "#8B3A3A",
           "#8B3A3A",
           "#8B3A3A",
           "#2E8B57",
           "#556B2F",
           "#556B2F",
           "#556B2F",
           "#556B2F",
           "#556B2F",
           "#556B2F"
          ],
          "source": [
           0,
           1,
           1,
           2,
           2,
           3,
           4,
           4,
           4,
           4,
           4,
           5,
           5,
           5,
           6,
           7,
           8,
           8,
           8,
           9,
           10,
           10,
           10,
           10,
           10,
           11,
           12,
           13,
           14,
           14,
           14,
           15,
           16,
           16,
           16,
           17,
           18,
           18,
           18,
           18,
           18,
           18
          ],
          "target": [
           3,
           4,
           6,
           5,
           7,
           17,
           8,
           9,
           14,
           15,
           16,
           10,
           11,
           13,
           12,
           18,
           19,
           20,
           21,
           22,
           23,
           24,
           25,
           26,
           27,
           28,
           29,
           30,
           31,
           32,
           33,
           34,
           35,
           36,
           37,
           38,
           39,
           40,
           41,
           42,
           43,
           44
          ],
          "value": [
           196,
           7576,
           130,
           14313,
           5023,
           196,
           2211,
           170,
           2695,
           186,
           2314,
           10777,
           2415,
           1121,
           130,
           5023,
           236,
           440,
           1535,
           170,
           6559,
           615,
           663,
           273,
           2667,
           2415,
           130,
           1121,
           2150,
           309,
           236,
           186,
           579,
           1500,
           235,
           196,
           291,
           502,
           987,
           171,
           1270,
           1802
          ]
         },
         "node": {
          "color": [
           "#3CB371",
           "#8B1A1A",
           "#458B00",
           "#3CB371",
           "#8B1A1A",
           "#2AC469",
           "#FFDEAD",
           "#228B22",
           "#CDC9A5",
           "#CD5B45",
           "#008B45",
           "#597131",
           "#FFDEAD",
           "#556B2F",
           "#CD2626",
           "#CD919E",
           "#8B3A3A",
           "#2E8B57",
           "#556B2F",
           "#F1ECC1",
           "#FFFACD",
           "#EEE9BF",
           "#E66D4A",
           "#00D96C",
           "#00EC75",
           "#00F278",
           "#00F87B",
           "#00E672",
           "#597131",
           "#CDB38B",
           "#556B2F",
           "#B22222",
           "#EE2C2C",
           "#CB2626",
           "#FFC0CB",
           "#CD5757",
           "#CD5959",
           "#CD5C5C",
           "#2E8B57",
           "#D3D3D3",
           "#00BC00",
           "#00E800",
           "#009000",
           "#00D200",
           "#00FF00"
          ],
          "label": [
           "algae_1",
           "animal_1",
           "plant_1",
           "algae_2",
           "animal_2",
           "fruit_2",
           "invertebrate_2",
           "vegetable/herb_2",
           "dairy_3",
           "egg_3",
           "fleshy fruit_3",
           "grain/grass_3",
           "invertebrate_3",
           "legume_3",
           "meat_3",
           "poultry_3",
           "seafood_3",
           "seaweed_3",
           "vegetable/herb_3",
           "cheese_4",
           "milk_4",
           "yogurt_4",
           "egg_poultry_4",
           "berry_4",
           "citrus_4",
           "drupe_4",
           "pepo_4",
           "pome_4",
           "grain/grass_4",
           "worm_4",
           "legume_4",
           "cow_4",
           "mouse_4",
           "pig_4",
           "poultry_4",
           "fish_freshwater_4",
           "fish_saltwater_4",
           "shellfish_4",
           "seaweed_4",
           "corn husk_4",
           "flower_4",
           "herb/spice_4",
           "sugarcane_4",
           "tea/infusion_4",
           "vegetable_4"
          ],
          "line": {
           "color": "black",
           "width": 0.5
          },
          "pad": 15,
          "thickness": 20
         },
         "textfont": {
          "color": "black",
          "family": "Arial black",
          "size": 10
         },
         "type": "sankey"
        }
       ],
       "layout": {
        "font": {
         "size": 10
        },
        "template": {
         "data": {
          "bar": [
           {
            "error_x": {
             "color": "#2a3f5f"
            },
            "error_y": {
             "color": "#2a3f5f"
            },
            "marker": {
             "line": {
              "color": "#E5ECF6",
              "width": 0.5
             },
             "pattern": {
              "fillmode": "overlay",
              "size": 10,
              "solidity": 0.2
             }
            },
            "type": "bar"
           }
          ],
          "barpolar": [
           {
            "marker": {
             "line": {
              "color": "#E5ECF6",
              "width": 0.5
             },
             "pattern": {
              "fillmode": "overlay",
              "size": 10,
              "solidity": 0.2
             }
            },
            "type": "barpolar"
           }
          ],
          "carpet": [
           {
            "aaxis": {
             "endlinecolor": "#2a3f5f",
             "gridcolor": "white",
             "linecolor": "white",
             "minorgridcolor": "white",
             "startlinecolor": "#2a3f5f"
            },
            "baxis": {
             "endlinecolor": "#2a3f5f",
             "gridcolor": "white",
             "linecolor": "white",
             "minorgridcolor": "white",
             "startlinecolor": "#2a3f5f"
            },
            "type": "carpet"
           }
          ],
          "choropleth": [
           {
            "colorbar": {
             "outlinewidth": 0,
             "ticks": ""
            },
            "type": "choropleth"
           }
          ],
          "contour": [
           {
            "colorbar": {
             "outlinewidth": 0,
             "ticks": ""
            },
            "colorscale": [
             [
              0,
              "#0d0887"
             ],
             [
              0.1111111111111111,
              "#46039f"
             ],
             [
              0.2222222222222222,
              "#7201a8"
             ],
             [
              0.3333333333333333,
              "#9c179e"
             ],
             [
              0.4444444444444444,
              "#bd3786"
             ],
             [
              0.5555555555555556,
              "#d8576b"
             ],
             [
              0.6666666666666666,
              "#ed7953"
             ],
             [
              0.7777777777777778,
              "#fb9f3a"
             ],
             [
              0.8888888888888888,
              "#fdca26"
             ],
             [
              1,
              "#f0f921"
             ]
            ],
            "type": "contour"
           }
          ],
          "contourcarpet": [
           {
            "colorbar": {
             "outlinewidth": 0,
             "ticks": ""
            },
            "type": "contourcarpet"
           }
          ],
          "heatmap": [
           {
            "colorbar": {
             "outlinewidth": 0,
             "ticks": ""
            },
            "colorscale": [
             [
              0,
              "#0d0887"
             ],
             [
              0.1111111111111111,
              "#46039f"
             ],
             [
              0.2222222222222222,
              "#7201a8"
             ],
             [
              0.3333333333333333,
              "#9c179e"
             ],
             [
              0.4444444444444444,
              "#bd3786"
             ],
             [
              0.5555555555555556,
              "#d8576b"
             ],
             [
              0.6666666666666666,
              "#ed7953"
             ],
             [
              0.7777777777777778,
              "#fb9f3a"
             ],
             [
              0.8888888888888888,
              "#fdca26"
             ],
             [
              1,
              "#f0f921"
             ]
            ],
            "type": "heatmap"
           }
          ],
          "heatmapgl": [
           {
            "colorbar": {
             "outlinewidth": 0,
             "ticks": ""
            },
            "colorscale": [
             [
              0,
              "#0d0887"
             ],
             [
              0.1111111111111111,
              "#46039f"
             ],
             [
              0.2222222222222222,
              "#7201a8"
             ],
             [
              0.3333333333333333,
              "#9c179e"
             ],
             [
              0.4444444444444444,
              "#bd3786"
             ],
             [
              0.5555555555555556,
              "#d8576b"
             ],
             [
              0.6666666666666666,
              "#ed7953"
             ],
             [
              0.7777777777777778,
              "#fb9f3a"
             ],
             [
              0.8888888888888888,
              "#fdca26"
             ],
             [
              1,
              "#f0f921"
             ]
            ],
            "type": "heatmapgl"
           }
          ],
          "histogram": [
           {
            "marker": {
             "pattern": {
              "fillmode": "overlay",
              "size": 10,
              "solidity": 0.2
             }
            },
            "type": "histogram"
           }
          ],
          "histogram2d": [
           {
            "colorbar": {
             "outlinewidth": 0,
             "ticks": ""
            },
            "colorscale": [
             [
              0,
              "#0d0887"
             ],
             [
              0.1111111111111111,
              "#46039f"
             ],
             [
              0.2222222222222222,
              "#7201a8"
             ],
             [
              0.3333333333333333,
              "#9c179e"
             ],
             [
              0.4444444444444444,
              "#bd3786"
             ],
             [
              0.5555555555555556,
              "#d8576b"
             ],
             [
              0.6666666666666666,
              "#ed7953"
             ],
             [
              0.7777777777777778,
              "#fb9f3a"
             ],
             [
              0.8888888888888888,
              "#fdca26"
             ],
             [
              1,
              "#f0f921"
             ]
            ],
            "type": "histogram2d"
           }
          ],
          "histogram2dcontour": [
           {
            "colorbar": {
             "outlinewidth": 0,
             "ticks": ""
            },
            "colorscale": [
             [
              0,
              "#0d0887"
             ],
             [
              0.1111111111111111,
              "#46039f"
             ],
             [
              0.2222222222222222,
              "#7201a8"
             ],
             [
              0.3333333333333333,
              "#9c179e"
             ],
             [
              0.4444444444444444,
              "#bd3786"
             ],
             [
              0.5555555555555556,
              "#d8576b"
             ],
             [
              0.6666666666666666,
              "#ed7953"
             ],
             [
              0.7777777777777778,
              "#fb9f3a"
             ],
             [
              0.8888888888888888,
              "#fdca26"
             ],
             [
              1,
              "#f0f921"
             ]
            ],
            "type": "histogram2dcontour"
           }
          ],
          "mesh3d": [
           {
            "colorbar": {
             "outlinewidth": 0,
             "ticks": ""
            },
            "type": "mesh3d"
           }
          ],
          "parcoords": [
           {
            "line": {
             "colorbar": {
              "outlinewidth": 0,
              "ticks": ""
             }
            },
            "type": "parcoords"
           }
          ],
          "pie": [
           {
            "automargin": true,
            "type": "pie"
           }
          ],
          "scatter": [
           {
            "fillpattern": {
             "fillmode": "overlay",
             "size": 10,
             "solidity": 0.2
            },
            "type": "scatter"
           }
          ],
          "scatter3d": [
           {
            "line": {
             "colorbar": {
              "outlinewidth": 0,
              "ticks": ""
             }
            },
            "marker": {
             "colorbar": {
              "outlinewidth": 0,
              "ticks": ""
             }
            },
            "type": "scatter3d"
           }
          ],
          "scattercarpet": [
           {
            "marker": {
             "colorbar": {
              "outlinewidth": 0,
              "ticks": ""
             }
            },
            "type": "scattercarpet"
           }
          ],
          "scattergeo": [
           {
            "marker": {
             "colorbar": {
              "outlinewidth": 0,
              "ticks": ""
             }
            },
            "type": "scattergeo"
           }
          ],
          "scattergl": [
           {
            "marker": {
             "colorbar": {
              "outlinewidth": 0,
              "ticks": ""
             }
            },
            "type": "scattergl"
           }
          ],
          "scattermapbox": [
           {
            "marker": {
             "colorbar": {
              "outlinewidth": 0,
              "ticks": ""
             }
            },
            "type": "scattermapbox"
           }
          ],
          "scatterpolar": [
           {
            "marker": {
             "colorbar": {
              "outlinewidth": 0,
              "ticks": ""
             }
            },
            "type": "scatterpolar"
           }
          ],
          "scatterpolargl": [
           {
            "marker": {
             "colorbar": {
              "outlinewidth": 0,
              "ticks": ""
             }
            },
            "type": "scatterpolargl"
           }
          ],
          "scatterternary": [
           {
            "marker": {
             "colorbar": {
              "outlinewidth": 0,
              "ticks": ""
             }
            },
            "type": "scatterternary"
           }
          ],
          "surface": [
           {
            "colorbar": {
             "outlinewidth": 0,
             "ticks": ""
            },
            "colorscale": [
             [
              0,
              "#0d0887"
             ],
             [
              0.1111111111111111,
              "#46039f"
             ],
             [
              0.2222222222222222,
              "#7201a8"
             ],
             [
              0.3333333333333333,
              "#9c179e"
             ],
             [
              0.4444444444444444,
              "#bd3786"
             ],
             [
              0.5555555555555556,
              "#d8576b"
             ],
             [
              0.6666666666666666,
              "#ed7953"
             ],
             [
              0.7777777777777778,
              "#fb9f3a"
             ],
             [
              0.8888888888888888,
              "#fdca26"
             ],
             [
              1,
              "#f0f921"
             ]
            ],
            "type": "surface"
           }
          ],
          "table": [
           {
            "cells": {
             "fill": {
              "color": "#EBF0F8"
             },
             "line": {
              "color": "white"
             }
            },
            "header": {
             "fill": {
              "color": "#C8D4E3"
             },
             "line": {
              "color": "white"
             }
            },
            "type": "table"
           }
          ]
         },
         "layout": {
          "annotationdefaults": {
           "arrowcolor": "#2a3f5f",
           "arrowhead": 0,
           "arrowwidth": 1
          },
          "autotypenumbers": "strict",
          "coloraxis": {
           "colorbar": {
            "outlinewidth": 0,
            "ticks": ""
           }
          },
          "colorscale": {
           "diverging": [
            [
             0,
             "#8e0152"
            ],
            [
             0.1,
             "#c51b7d"
            ],
            [
             0.2,
             "#de77ae"
            ],
            [
             0.3,
             "#f1b6da"
            ],
            [
             0.4,
             "#fde0ef"
            ],
            [
             0.5,
             "#f7f7f7"
            ],
            [
             0.6,
             "#e6f5d0"
            ],
            [
             0.7,
             "#b8e186"
            ],
            [
             0.8,
             "#7fbc41"
            ],
            [
             0.9,
             "#4d9221"
            ],
            [
             1,
             "#276419"
            ]
           ],
           "sequential": [
            [
             0,
             "#0d0887"
            ],
            [
             0.1111111111111111,
             "#46039f"
            ],
            [
             0.2222222222222222,
             "#7201a8"
            ],
            [
             0.3333333333333333,
             "#9c179e"
            ],
            [
             0.4444444444444444,
             "#bd3786"
            ],
            [
             0.5555555555555556,
             "#d8576b"
            ],
            [
             0.6666666666666666,
             "#ed7953"
            ],
            [
             0.7777777777777778,
             "#fb9f3a"
            ],
            [
             0.8888888888888888,
             "#fdca26"
            ],
            [
             1,
             "#f0f921"
            ]
           ],
           "sequentialminus": [
            [
             0,
             "#0d0887"
            ],
            [
             0.1111111111111111,
             "#46039f"
            ],
            [
             0.2222222222222222,
             "#7201a8"
            ],
            [
             0.3333333333333333,
             "#9c179e"
            ],
            [
             0.4444444444444444,
             "#bd3786"
            ],
            [
             0.5555555555555556,
             "#d8576b"
            ],
            [
             0.6666666666666666,
             "#ed7953"
            ],
            [
             0.7777777777777778,
             "#fb9f3a"
            ],
            [
             0.8888888888888888,
             "#fdca26"
            ],
            [
             1,
             "#f0f921"
            ]
           ]
          },
          "colorway": [
           "#636efa",
           "#EF553B",
           "#00cc96",
           "#ab63fa",
           "#FFA15A",
           "#19d3f3",
           "#FF6692",
           "#B6E880",
           "#FF97FF",
           "#FECB52"
          ],
          "font": {
           "color": "#2a3f5f"
          },
          "geo": {
           "bgcolor": "white",
           "lakecolor": "white",
           "landcolor": "#E5ECF6",
           "showlakes": true,
           "showland": true,
           "subunitcolor": "white"
          },
          "hoverlabel": {
           "align": "left"
          },
          "hovermode": "closest",
          "mapbox": {
           "style": "light"
          },
          "paper_bgcolor": "white",
          "plot_bgcolor": "#E5ECF6",
          "polar": {
           "angularaxis": {
            "gridcolor": "white",
            "linecolor": "white",
            "ticks": ""
           },
           "bgcolor": "#E5ECF6",
           "radialaxis": {
            "gridcolor": "white",
            "linecolor": "white",
            "ticks": ""
           }
          },
          "scene": {
           "xaxis": {
            "backgroundcolor": "#E5ECF6",
            "gridcolor": "white",
            "gridwidth": 2,
            "linecolor": "white",
            "showbackground": true,
            "ticks": "",
            "zerolinecolor": "white"
           },
           "yaxis": {
            "backgroundcolor": "#E5ECF6",
            "gridcolor": "white",
            "gridwidth": 2,
            "linecolor": "white",
            "showbackground": true,
            "ticks": "",
            "zerolinecolor": "white"
           },
           "zaxis": {
            "backgroundcolor": "#E5ECF6",
            "gridcolor": "white",
            "gridwidth": 2,
            "linecolor": "white",
            "showbackground": true,
            "ticks": "",
            "zerolinecolor": "white"
           }
          },
          "shapedefaults": {
           "line": {
            "color": "#2a3f5f"
           }
          },
          "ternary": {
           "aaxis": {
            "gridcolor": "white",
            "linecolor": "white",
            "ticks": ""
           },
           "baxis": {
            "gridcolor": "white",
            "linecolor": "white",
            "ticks": ""
           },
           "bgcolor": "#E5ECF6",
           "caxis": {
            "gridcolor": "white",
            "linecolor": "white",
            "ticks": ""
           }
          },
          "title": {
           "x": 0.05
          },
          "xaxis": {
           "automargin": true,
           "gridcolor": "white",
           "linecolor": "white",
           "ticks": "",
           "title": {
            "standoff": 15
           },
           "zerolinecolor": "white",
           "zerolinewidth": 2
          },
          "yaxis": {
           "automargin": true,
           "gridcolor": "white",
           "linecolor": "white",
           "ticks": "",
           "title": {
            "standoff": 15
           },
           "zerolinecolor": "white",
           "zerolinewidth": 2
          }
         }
        },
        "title": {
         "text": "Food Flows Sankey Diagram"
        }
       }
      }
     },
     "metadata": {},
     "output_type": "display_data"
    }
   ],
   "source": [
    "visualize_sankey(food_flows, color_file_path)"
   ]
  }
 ],
 "metadata": {
  "kernelspec": {
   "display_name": "base",
   "language": "python",
   "name": "python3"
  },
  "language_info": {
   "codemirror_mode": {
    "name": "ipython",
    "version": 3
   },
   "file_extension": ".py",
   "mimetype": "text/x-python",
   "name": "python",
   "nbconvert_exporter": "python",
   "pygments_lexer": "ipython3",
   "version": "3.11.7"
  }
 },
 "nbformat": 4,
 "nbformat_minor": 2
}
